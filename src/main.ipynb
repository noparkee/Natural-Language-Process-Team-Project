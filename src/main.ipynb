{
 "cells": [
  {
   "cell_type": "code",
   "execution_count": 1,
   "id": "506a8ddb",
   "metadata": {
    "ExecuteTime": {
     "end_time": "2021-11-19T08:34:35.411411Z",
     "start_time": "2021-11-19T08:34:34.321430Z"
    }
   },
   "outputs": [],
   "source": [
    "import torch\n",
    "import pandas as pd\n",
    "from torch.utils.data import DataLoader\n",
    "\n",
    "from data import get_data_iterators\n",
    "from data import set_device\n",
    "from model import AudioTextModel"
   ]
  },
  {
   "cell_type": "code",
   "execution_count": 2,
   "id": "f5ee17ad",
   "metadata": {
    "ExecuteTime": {
     "end_time": "2021-11-19T08:34:35.416466Z",
     "start_time": "2021-11-19T08:34:35.413768Z"
    }
   },
   "outputs": [],
   "source": [
    "ITER = 2"
   ]
  },
  {
   "cell_type": "code",
   "execution_count": 3,
   "id": "71066c7e",
   "metadata": {
    "ExecuteTime": {
     "end_time": "2021-11-19T08:34:47.198844Z",
     "start_time": "2021-11-19T08:34:35.419016Z"
    }
   },
   "outputs": [
    {
     "name": "stderr",
     "output_type": "stream",
     "text": [
      "Some weights of the model checkpoint at bert-base-uncased were not used when initializing BertModel: ['cls.seq_relationship.bias', 'cls.predictions.transform.dense.bias', 'cls.predictions.transform.LayerNorm.weight', 'cls.seq_relationship.weight', 'cls.predictions.transform.LayerNorm.bias', 'cls.predictions.transform.dense.weight', 'cls.predictions.decoder.weight', 'cls.predictions.bias']\n",
      "- This IS expected if you are initializing BertModel from the checkpoint of a model trained on another task or with another architecture (e.g. initializing a BertForSequenceClassification model from a BertForPreTraining model).\n",
      "- This IS NOT expected if you are initializing BertModel from the checkpoint of a model that you expect to be exactly identical (initializing a BertForSequenceClassification model from a BertForSequenceClassification model).\n"
     ]
    }
   ],
   "source": [
    "device = torch.device(\"cuda\" if torch.cuda.is_available() else \"cpu\")\n",
    "model = AudioTextModel(num_classes=11).to(device)"
   ]
  },
  {
   "cell_type": "code",
   "execution_count": 4,
   "id": "2aafbf12",
   "metadata": {
    "ExecuteTime": {
     "end_time": "2021-11-19T08:34:48.301758Z",
     "start_time": "2021-11-19T08:34:47.201455Z"
    }
   },
   "outputs": [],
   "source": [
    "train, test = get_data_iterators()"
   ]
  },
  {
   "cell_type": "code",
   "execution_count": 6,
   "id": "aa09bf46",
   "metadata": {
    "ExecuteTime": {
     "end_time": "2021-11-19T08:36:02.985552Z",
     "start_time": "2021-11-19T08:35:13.588650Z"
    }
   },
   "outputs": [
    {
     "name": "stdout",
     "output_type": "stream",
     "text": [
      "0\n",
      "eval: tensor(0.2500, device='cuda:0')\n",
      "eval: tensor(0.2078, device='cuda:0')\n"
     ]
    }
   ],
   "source": [
    "for i in range(ITER):   # epoch\n",
    "    for batch_idx, minibatch in enumerate(train):  \n",
    "        #print(minibatch[1].shape)\n",
    "        if i % 300 == 0 and batch_idx == 0:  # epoch-1 에서 test\n",
    "            print(i)\n",
    "            correct_lst = []\n",
    "            with torch.no_grad():\n",
    "                for batch_idx, minibatch in enumerate(test):  # full test data\n",
    "                    minibatch = set_device(minibatch, device)\n",
    "                    correct, total = model.evaluate(minibatch)\n",
    "                    correct_lst.append(correct)\n",
    "                print(\"eval: \" + str((sum(correct_lst)/len(correct_lst)) / 32))\n",
    "                      \n",
    "        minibatch = set_device(minibatch, device)\n",
    "        loss_dict = model.update(minibatch)\n",
    "\n",
    "# last\n",
    "correct_lst = []\n",
    "with torch.no_grad():\n",
    "    for batch_idx, minibatch in enumerate(test):  # full test data\n",
    "        minibatch = set_device(minibatch, device)\n",
    "        correct, total = model.evaluate(minibatch)\n",
    "        correct_lst.append(correct)\n",
    "    print(\"eval: \" + str((sum(correct_lst)/len(correct_lst)) / 32))\n",
    "        "
   ]
  },
  {
   "cell_type": "code",
   "execution_count": null,
   "id": "e4ceeb51",
   "metadata": {},
   "outputs": [],
   "source": []
  }
 ],
 "metadata": {
  "kernelspec": {
   "display_name": "Python 3",
   "language": "python",
   "name": "python3"
  },
  "language_info": {
   "codemirror_mode": {
    "name": "ipython",
    "version": 3
   },
   "file_extension": ".py",
   "mimetype": "text/x-python",
   "name": "python",
   "nbconvert_exporter": "python",
   "pygments_lexer": "ipython3",
   "version": "3.8.10"
  },
  "toc": {
   "base_numbering": 1,
   "nav_menu": {},
   "number_sections": false,
   "sideBar": true,
   "skip_h1_title": false,
   "title_cell": "Table of Contents",
   "title_sidebar": "Contents",
   "toc_cell": false,
   "toc_position": {},
   "toc_section_display": true,
   "toc_window_display": false
  }
 },
 "nbformat": 4,
 "nbformat_minor": 5
}
