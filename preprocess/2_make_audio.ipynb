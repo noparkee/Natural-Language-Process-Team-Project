{
 "cells": [
  {
   "cell_type": "code",
   "execution_count": 1,
   "id": "fe52db25",
   "metadata": {
    "ExecuteTime": {
     "end_time": "2021-11-19T08:17:31.113826Z",
     "start_time": "2021-11-19T08:17:29.117029Z"
    }
   },
   "outputs": [],
   "source": [
    "import pandas as pd\n",
    "import librosa\n",
    "import pickle\n",
    "import numpy as np\n",
    "import torch"
   ]
  },
  {
   "cell_type": "code",
   "execution_count": 55,
   "id": "4a05ea3c",
   "metadata": {
    "ExecuteTime": {
     "end_time": "2021-11-20T10:37:37.523232Z",
     "start_time": "2021-11-20T10:37:37.409090Z"
    }
   },
   "outputs": [
    {
     "data": {
      "text/html": [
       "<div>\n",
       "<style scoped>\n",
       "    .dataframe tbody tr th:only-of-type {\n",
       "        vertical-align: middle;\n",
       "    }\n",
       "\n",
       "    .dataframe tbody tr th {\n",
       "        vertical-align: top;\n",
       "    }\n",
       "\n",
       "    .dataframe thead th {\n",
       "        text-align: right;\n",
       "    }\n",
       "</style>\n",
       "<table border=\"1\" class=\"dataframe\">\n",
       "  <thead>\n",
       "    <tr style=\"text-align: right;\">\n",
       "      <th></th>\n",
       "      <th>name</th>\n",
       "      <th>wav_path</th>\n",
       "    </tr>\n",
       "  </thead>\n",
       "  <tbody>\n",
       "    <tr>\n",
       "      <th>0</th>\n",
       "      <td>Ses01F_impro01_F000</td>\n",
       "      <td>../data/IEMOCAP_full_release/Session1/sentence...</td>\n",
       "    </tr>\n",
       "    <tr>\n",
       "      <th>1</th>\n",
       "      <td>Ses01F_impro01_F001</td>\n",
       "      <td>../data/IEMOCAP_full_release/Session1/sentence...</td>\n",
       "    </tr>\n",
       "    <tr>\n",
       "      <th>2</th>\n",
       "      <td>Ses01F_impro01_F002</td>\n",
       "      <td>../data/IEMOCAP_full_release/Session1/sentence...</td>\n",
       "    </tr>\n",
       "    <tr>\n",
       "      <th>3</th>\n",
       "      <td>Ses01F_impro01_F005</td>\n",
       "      <td>../data/IEMOCAP_full_release/Session1/sentence...</td>\n",
       "    </tr>\n",
       "    <tr>\n",
       "      <th>4</th>\n",
       "      <td>Ses01F_impro01_F006</td>\n",
       "      <td>../data/IEMOCAP_full_release/Session1/sentence...</td>\n",
       "    </tr>\n",
       "    <tr>\n",
       "      <th>...</th>\n",
       "      <td>...</td>\n",
       "      <td>...</td>\n",
       "    </tr>\n",
       "    <tr>\n",
       "      <th>7482</th>\n",
       "      <td>Ses05M_script03_2_M041</td>\n",
       "      <td>../data/IEMOCAP_full_release/Session5/sentence...</td>\n",
       "    </tr>\n",
       "    <tr>\n",
       "      <th>7483</th>\n",
       "      <td>Ses05M_script03_2_M042</td>\n",
       "      <td>../data/IEMOCAP_full_release/Session5/sentence...</td>\n",
       "    </tr>\n",
       "    <tr>\n",
       "      <th>7484</th>\n",
       "      <td>Ses05M_script03_2_M043</td>\n",
       "      <td>../data/IEMOCAP_full_release/Session5/sentence...</td>\n",
       "    </tr>\n",
       "    <tr>\n",
       "      <th>7485</th>\n",
       "      <td>Ses05M_script03_2_M044</td>\n",
       "      <td>../data/IEMOCAP_full_release/Session5/sentence...</td>\n",
       "    </tr>\n",
       "    <tr>\n",
       "      <th>7486</th>\n",
       "      <td>Ses05M_script03_2_M045</td>\n",
       "      <td>../data/IEMOCAP_full_release/Session5/sentence...</td>\n",
       "    </tr>\n",
       "  </tbody>\n",
       "</table>\n",
       "<p>7487 rows × 2 columns</p>\n",
       "</div>"
      ],
      "text/plain": [
       "                        name  \\\n",
       "0        Ses01F_impro01_F000   \n",
       "1        Ses01F_impro01_F001   \n",
       "2        Ses01F_impro01_F002   \n",
       "3        Ses01F_impro01_F005   \n",
       "4        Ses01F_impro01_F006   \n",
       "...                      ...   \n",
       "7482  Ses05M_script03_2_M041   \n",
       "7483  Ses05M_script03_2_M042   \n",
       "7484  Ses05M_script03_2_M043   \n",
       "7485  Ses05M_script03_2_M044   \n",
       "7486  Ses05M_script03_2_M045   \n",
       "\n",
       "                                               wav_path  \n",
       "0     ../data/IEMOCAP_full_release/Session1/sentence...  \n",
       "1     ../data/IEMOCAP_full_release/Session1/sentence...  \n",
       "2     ../data/IEMOCAP_full_release/Session1/sentence...  \n",
       "3     ../data/IEMOCAP_full_release/Session1/sentence...  \n",
       "4     ../data/IEMOCAP_full_release/Session1/sentence...  \n",
       "...                                                 ...  \n",
       "7482  ../data/IEMOCAP_full_release/Session5/sentence...  \n",
       "7483  ../data/IEMOCAP_full_release/Session5/sentence...  \n",
       "7484  ../data/IEMOCAP_full_release/Session5/sentence...  \n",
       "7485  ../data/IEMOCAP_full_release/Session5/sentence...  \n",
       "7486  ../data/IEMOCAP_full_release/Session5/sentence...  \n",
       "\n",
       "[7487 rows x 2 columns]"
      ]
     },
     "execution_count": 55,
     "metadata": {},
     "output_type": "execute_result"
    }
   ],
   "source": [
    "#import file description\n",
    "data = pd.read_pickle('../data/description.pkl')\n",
    "data = data[['name','wav_path']]\n",
    "data = data.sort_values(by='name')\n",
    "data"
   ]
  },
  {
   "cell_type": "code",
   "execution_count": 6,
   "id": "3e37a9a2",
   "metadata": {
    "ExecuteTime": {
     "end_time": "2021-11-19T08:18:01.297914Z",
     "start_time": "2021-11-19T08:18:01.227959Z"
    }
   },
   "outputs": [
    {
     "data": {
      "text/plain": [
       "(20, 106)"
      ]
     },
     "execution_count": 6,
     "metadata": {},
     "output_type": "execute_result"
    }
   ],
   "source": [
    "##try one data\n",
    "file_path = data['wav_path'][3]\n",
    "##default 44100\n",
    "y, sr = librosa.load(file_path, sr=44100)\n",
    "y, sr\n",
    "librosa.feature.mfcc(y,).shape"
   ]
  },
  {
   "cell_type": "code",
   "execution_count": 56,
   "id": "c4821fb5",
   "metadata": {
    "ExecuteTime": {
     "end_time": "2021-11-20T10:44:46.159990Z",
     "start_time": "2021-11-20T10:37:47.487952Z"
    }
   },
   "outputs": [],
   "source": [
    "##run all\n",
    "data['wav_vec'] = data['wav_path'].apply(lambda x: librosa.load(x,sr=3840)[0])"
   ]
  },
  {
   "cell_type": "code",
   "execution_count": 57,
   "id": "6b2b78f8",
   "metadata": {
    "ExecuteTime": {
     "end_time": "2021-11-20T10:45:21.021481Z",
     "start_time": "2021-11-20T10:44:46.163460Z"
    }
   },
   "outputs": [],
   "source": [
    "data['mfcc'] = data['wav_vec'].apply(lambda x: librosa.feature.mfcc(x))"
   ]
  },
  {
   "cell_type": "code",
   "execution_count": 59,
   "id": "d9105e48",
   "metadata": {
    "ExecuteTime": {
     "end_time": "2021-11-20T12:01:43.028494Z",
     "start_time": "2021-11-20T12:01:42.962485Z"
    }
   },
   "outputs": [],
   "source": [
    "#data['mfcc_move'] = data['mfcc'] + 537.419921875"
   ]
  },
  {
   "cell_type": "code",
   "execution_count": null,
   "id": "5af0de2f",
   "metadata": {},
   "outputs": [],
   "source": [
    "data.to_pickle('../data/audio_vec.pkl')"
   ]
  },
  {
   "cell_type": "code",
   "execution_count": null,
   "id": "84c282ec",
   "metadata": {},
   "outputs": [],
   "source": [
    "#####"
   ]
  },
  {
   "cell_type": "code",
   "execution_count": 70,
   "id": "6962282d",
   "metadata": {
    "ExecuteTime": {
     "end_time": "2021-11-20T12:29:42.524161Z",
     "start_time": "2021-11-20T12:29:40.018403Z"
    }
   },
   "outputs": [
    {
     "data": {
      "text/html": [
       "<div>\n",
       "<style scoped>\n",
       "    .dataframe tbody tr th:only-of-type {\n",
       "        vertical-align: middle;\n",
       "    }\n",
       "\n",
       "    .dataframe tbody tr th {\n",
       "        vertical-align: top;\n",
       "    }\n",
       "\n",
       "    .dataframe thead th {\n",
       "        text-align: right;\n",
       "    }\n",
       "</style>\n",
       "<table border=\"1\" class=\"dataframe\">\n",
       "  <thead>\n",
       "    <tr style=\"text-align: right;\">\n",
       "      <th></th>\n",
       "      <th>name</th>\n",
       "      <th>wav_path</th>\n",
       "      <th>wav_vec</th>\n",
       "      <th>mfcc</th>\n",
       "      <th>mfcc_move</th>\n",
       "      <th>mfcc_tensor</th>\n",
       "      <th>len</th>\n",
       "    </tr>\n",
       "  </thead>\n",
       "  <tbody>\n",
       "    <tr>\n",
       "      <th>0</th>\n",
       "      <td>Ses01F_impro01_F000</td>\n",
       "      <td>../data/IEMOCAP_full_release/Session1/sentence...</td>\n",
       "      <td>[-0.0028926095, -0.0031089038, -0.00032413393,...</td>\n",
       "      <td>[[-369.46243, -371.0738, -387.509, -402.1697, ...</td>\n",
       "      <td>[[167.95749, 166.34613, 149.91092, 135.25021, ...</td>\n",
       "      <td>[[tensor(-369.4624), tensor(51.4046), tensor(-...</td>\n",
       "      <td>15</td>\n",
       "    </tr>\n",
       "    <tr>\n",
       "      <th>1</th>\n",
       "      <td>Ses01F_impro01_F001</td>\n",
       "      <td>../data/IEMOCAP_full_release/Session1/sentence...</td>\n",
       "      <td>[-4.4501106e-05, -0.0015343546, -0.00027562078...</td>\n",
       "      <td>[[-407.10593, -406.58017, -408.41055, -377.438...</td>\n",
       "      <td>[[130.314, 130.83975, 129.00937, 159.98096, 31...</td>\n",
       "      <td>[[tensor(-407.1059), tensor(74.1030), tensor(-...</td>\n",
       "      <td>11</td>\n",
       "    </tr>\n",
       "    <tr>\n",
       "      <th>2</th>\n",
       "      <td>Ses01F_impro01_F002</td>\n",
       "      <td>../data/IEMOCAP_full_release/Session1/sentence...</td>\n",
       "      <td>[5.2868247e-05, 0.0009967297, -0.00047307502, ...</td>\n",
       "      <td>[[-418.50763, -411.41168, -386.94864, -367.826...</td>\n",
       "      <td>[[118.91229, 126.00824, 150.47128, 169.59308, ...</td>\n",
       "      <td>[[tensor(-418.5076), tensor(73.5019), tensor(-...</td>\n",
       "      <td>24</td>\n",
       "    </tr>\n",
       "    <tr>\n",
       "      <th>3</th>\n",
       "      <td>Ses01F_impro01_F005</td>\n",
       "      <td>../data/IEMOCAP_full_release/Session1/sentence...</td>\n",
       "      <td>[-0.0007096602, -0.0018307528, -0.0005119155, ...</td>\n",
       "      <td>[[-399.24823, -396.18747, -396.43295, -375.661...</td>\n",
       "      <td>[[138.17169, 141.23245, 140.98697, 161.75836, ...</td>\n",
       "      <td>[[tensor(-399.2482), tensor(76.8140), tensor(-...</td>\n",
       "      <td>31</td>\n",
       "    </tr>\n",
       "    <tr>\n",
       "      <th>4</th>\n",
       "      <td>Ses01F_impro01_F006</td>\n",
       "      <td>../data/IEMOCAP_full_release/Session1/sentence...</td>\n",
       "      <td>[0.0049938112, 0.008166523, 0.0074708415, 0.00...</td>\n",
       "      <td>[[-352.00302, -362.92972, -368.34174, -231.518...</td>\n",
       "      <td>[[185.4169, 174.4902, 169.07819, 305.90164, 37...</td>\n",
       "      <td>[[tensor(-352.0030), tensor(86.6190), tensor(-...</td>\n",
       "      <td>35</td>\n",
       "    </tr>\n",
       "    <tr>\n",
       "      <th>...</th>\n",
       "      <td>...</td>\n",
       "      <td>...</td>\n",
       "      <td>...</td>\n",
       "      <td>...</td>\n",
       "      <td>...</td>\n",
       "      <td>...</td>\n",
       "      <td>...</td>\n",
       "    </tr>\n",
       "    <tr>\n",
       "      <th>7482</th>\n",
       "      <td>Ses05M_script03_2_M041</td>\n",
       "      <td>../data/IEMOCAP_full_release/Session5/sentence...</td>\n",
       "      <td>[-0.0017033925, -0.0029533403, -0.002816058, -...</td>\n",
       "      <td>[[-442.83765, -440.47543, -419.49213, -309.967...</td>\n",
       "      <td>[[94.582275, 96.94449, 117.927795, 227.45258, ...</td>\n",
       "      <td>[[tensor(-442.8376), tensor(73.7019), tensor(-...</td>\n",
       "      <td>62</td>\n",
       "    </tr>\n",
       "    <tr>\n",
       "      <th>7483</th>\n",
       "      <td>Ses05M_script03_2_M042</td>\n",
       "      <td>../data/IEMOCAP_full_release/Session5/sentence...</td>\n",
       "      <td>[-0.0067384816, 0.0012129268, 0.0065154308, 0....</td>\n",
       "      <td>[[-327.0108, -277.2942, -193.70734, -119.39564...</td>\n",
       "      <td>[[210.40912, 260.12573, 343.7126, 418.0243, 45...</td>\n",
       "      <td>[[tensor(-327.0108), tensor(-10.0813), tensor(...</td>\n",
       "      <td>14</td>\n",
       "    </tr>\n",
       "    <tr>\n",
       "      <th>7484</th>\n",
       "      <td>Ses05M_script03_2_M043</td>\n",
       "      <td>../data/IEMOCAP_full_release/Session5/sentence...</td>\n",
       "      <td>[0.004514321, 0.013757654, 0.022241613, 0.0269...</td>\n",
       "      <td>[[-55.859444, -47.903893, -88.44702, -132.7370...</td>\n",
       "      <td>[[481.5605, 489.51602, 448.9729, 404.6829, 355...</td>\n",
       "      <td>[[tensor(-55.8594), tensor(-66.6151), tensor(-...</td>\n",
       "      <td>17</td>\n",
       "    </tr>\n",
       "    <tr>\n",
       "      <th>7485</th>\n",
       "      <td>Ses05M_script03_2_M044</td>\n",
       "      <td>../data/IEMOCAP_full_release/Session5/sentence...</td>\n",
       "      <td>[0.11174615, -0.14804262, -0.28937134, 0.45634...</td>\n",
       "      <td>[[-115.3692, -138.6212, -192.84505, -207.99359...</td>\n",
       "      <td>[[422.05072, 398.7987, 344.5749, 329.42633, 38...</td>\n",
       "      <td>[[tensor(-115.3692), tensor(-99.6687), tensor(...</td>\n",
       "      <td>34</td>\n",
       "    </tr>\n",
       "    <tr>\n",
       "      <th>7486</th>\n",
       "      <td>Ses05M_script03_2_M045</td>\n",
       "      <td>../data/IEMOCAP_full_release/Session5/sentence...</td>\n",
       "      <td>[0.0021281731, -0.0025116906, -0.003959186, -0...</td>\n",
       "      <td>[[-146.83527, -48.169697, 5.6566925, -43.78460...</td>\n",
       "      <td>[[390.58466, 489.2502, 543.0766, 493.6353, 391...</td>\n",
       "      <td>[[tensor(-146.8353), tensor(-61.5667), tensor(...</td>\n",
       "      <td>46</td>\n",
       "    </tr>\n",
       "  </tbody>\n",
       "</table>\n",
       "<p>7487 rows × 7 columns</p>\n",
       "</div>"
      ],
      "text/plain": [
       "                        name  \\\n",
       "0        Ses01F_impro01_F000   \n",
       "1        Ses01F_impro01_F001   \n",
       "2        Ses01F_impro01_F002   \n",
       "3        Ses01F_impro01_F005   \n",
       "4        Ses01F_impro01_F006   \n",
       "...                      ...   \n",
       "7482  Ses05M_script03_2_M041   \n",
       "7483  Ses05M_script03_2_M042   \n",
       "7484  Ses05M_script03_2_M043   \n",
       "7485  Ses05M_script03_2_M044   \n",
       "7486  Ses05M_script03_2_M045   \n",
       "\n",
       "                                               wav_path  \\\n",
       "0     ../data/IEMOCAP_full_release/Session1/sentence...   \n",
       "1     ../data/IEMOCAP_full_release/Session1/sentence...   \n",
       "2     ../data/IEMOCAP_full_release/Session1/sentence...   \n",
       "3     ../data/IEMOCAP_full_release/Session1/sentence...   \n",
       "4     ../data/IEMOCAP_full_release/Session1/sentence...   \n",
       "...                                                 ...   \n",
       "7482  ../data/IEMOCAP_full_release/Session5/sentence...   \n",
       "7483  ../data/IEMOCAP_full_release/Session5/sentence...   \n",
       "7484  ../data/IEMOCAP_full_release/Session5/sentence...   \n",
       "7485  ../data/IEMOCAP_full_release/Session5/sentence...   \n",
       "7486  ../data/IEMOCAP_full_release/Session5/sentence...   \n",
       "\n",
       "                                                wav_vec  \\\n",
       "0     [-0.0028926095, -0.0031089038, -0.00032413393,...   \n",
       "1     [-4.4501106e-05, -0.0015343546, -0.00027562078...   \n",
       "2     [5.2868247e-05, 0.0009967297, -0.00047307502, ...   \n",
       "3     [-0.0007096602, -0.0018307528, -0.0005119155, ...   \n",
       "4     [0.0049938112, 0.008166523, 0.0074708415, 0.00...   \n",
       "...                                                 ...   \n",
       "7482  [-0.0017033925, -0.0029533403, -0.002816058, -...   \n",
       "7483  [-0.0067384816, 0.0012129268, 0.0065154308, 0....   \n",
       "7484  [0.004514321, 0.013757654, 0.022241613, 0.0269...   \n",
       "7485  [0.11174615, -0.14804262, -0.28937134, 0.45634...   \n",
       "7486  [0.0021281731, -0.0025116906, -0.003959186, -0...   \n",
       "\n",
       "                                                   mfcc  \\\n",
       "0     [[-369.46243, -371.0738, -387.509, -402.1697, ...   \n",
       "1     [[-407.10593, -406.58017, -408.41055, -377.438...   \n",
       "2     [[-418.50763, -411.41168, -386.94864, -367.826...   \n",
       "3     [[-399.24823, -396.18747, -396.43295, -375.661...   \n",
       "4     [[-352.00302, -362.92972, -368.34174, -231.518...   \n",
       "...                                                 ...   \n",
       "7482  [[-442.83765, -440.47543, -419.49213, -309.967...   \n",
       "7483  [[-327.0108, -277.2942, -193.70734, -119.39564...   \n",
       "7484  [[-55.859444, -47.903893, -88.44702, -132.7370...   \n",
       "7485  [[-115.3692, -138.6212, -192.84505, -207.99359...   \n",
       "7486  [[-146.83527, -48.169697, 5.6566925, -43.78460...   \n",
       "\n",
       "                                              mfcc_move  \\\n",
       "0     [[167.95749, 166.34613, 149.91092, 135.25021, ...   \n",
       "1     [[130.314, 130.83975, 129.00937, 159.98096, 31...   \n",
       "2     [[118.91229, 126.00824, 150.47128, 169.59308, ...   \n",
       "3     [[138.17169, 141.23245, 140.98697, 161.75836, ...   \n",
       "4     [[185.4169, 174.4902, 169.07819, 305.90164, 37...   \n",
       "...                                                 ...   \n",
       "7482  [[94.582275, 96.94449, 117.927795, 227.45258, ...   \n",
       "7483  [[210.40912, 260.12573, 343.7126, 418.0243, 45...   \n",
       "7484  [[481.5605, 489.51602, 448.9729, 404.6829, 355...   \n",
       "7485  [[422.05072, 398.7987, 344.5749, 329.42633, 38...   \n",
       "7486  [[390.58466, 489.2502, 543.0766, 493.6353, 391...   \n",
       "\n",
       "                                            mfcc_tensor  len  \n",
       "0     [[tensor(-369.4624), tensor(51.4046), tensor(-...   15  \n",
       "1     [[tensor(-407.1059), tensor(74.1030), tensor(-...   11  \n",
       "2     [[tensor(-418.5076), tensor(73.5019), tensor(-...   24  \n",
       "3     [[tensor(-399.2482), tensor(76.8140), tensor(-...   31  \n",
       "4     [[tensor(-352.0030), tensor(86.6190), tensor(-...   35  \n",
       "...                                                 ...  ...  \n",
       "7482  [[tensor(-442.8376), tensor(73.7019), tensor(-...   62  \n",
       "7483  [[tensor(-327.0108), tensor(-10.0813), tensor(...   14  \n",
       "7484  [[tensor(-55.8594), tensor(-66.6151), tensor(-...   17  \n",
       "7485  [[tensor(-115.3692), tensor(-99.6687), tensor(...   34  \n",
       "7486  [[tensor(-146.8353), tensor(-61.5667), tensor(...   46  \n",
       "\n",
       "[7487 rows x 7 columns]"
      ]
     },
     "execution_count": 70,
     "metadata": {},
     "output_type": "execute_result"
    }
   ],
   "source": [
    "data = pd.read_pickle('../data/audio_vec.pkl')\n",
    "\n",
    "data"
   ]
  },
  {
   "cell_type": "code",
   "execution_count": 71,
   "id": "22bb9a91",
   "metadata": {
    "ExecuteTime": {
     "end_time": "2021-11-20T12:29:56.147842Z",
     "start_time": "2021-11-20T12:29:56.063568Z"
    }
   },
   "outputs": [],
   "source": [
    "data['mfcc_tensor'] = data['mfcc'].map(lambda x: torch.tensor(x).permute(1,0))\n",
    "data['len'] = data['mfcc'].map(lambda x: x.shape[1])"
   ]
  },
  {
   "cell_type": "code",
   "execution_count": 65,
   "id": "ec178882",
   "metadata": {
    "ExecuteTime": {
     "end_time": "2021-11-20T12:02:39.452568Z",
     "start_time": "2021-11-20T12:02:39.442072Z"
    }
   },
   "outputs": [
    {
     "data": {
      "text/plain": [
       "0       15\n",
       "1       11\n",
       "2       24\n",
       "3       31\n",
       "4       35\n",
       "        ..\n",
       "7482    62\n",
       "7483    14\n",
       "7484    17\n",
       "7485    34\n",
       "7486    46\n",
       "Name: len, Length: 7487, dtype: int64"
      ]
     },
     "execution_count": 65,
     "metadata": {},
     "output_type": "execute_result"
    }
   ],
   "source": [
    "data['len']"
   ]
  },
  {
   "cell_type": "code",
   "execution_count": 66,
   "id": "e53511f5",
   "metadata": {
    "ExecuteTime": {
     "end_time": "2021-11-20T12:02:44.080343Z",
     "start_time": "2021-11-20T12:02:43.357477Z"
    }
   },
   "outputs": [
    {
     "data": {
      "text/plain": [
       "0       [[tensor(-369.4624), tensor(51.4046), tensor(-...\n",
       "1       [[tensor(-407.1059), tensor(74.1030), tensor(-...\n",
       "2       [[tensor(-418.5076), tensor(73.5019), tensor(-...\n",
       "3       [[tensor(-399.2482), tensor(76.8140), tensor(-...\n",
       "4       [[tensor(-352.0030), tensor(86.6190), tensor(-...\n",
       "                              ...                        \n",
       "7482    [[tensor(-442.8376), tensor(73.7019), tensor(-...\n",
       "7483    [[tensor(-327.0108), tensor(-10.0813), tensor(...\n",
       "7484    [[tensor(-55.8594), tensor(-66.6151), tensor(-...\n",
       "7485    [[tensor(-115.3692), tensor(-99.6687), tensor(...\n",
       "7486    [[tensor(-146.8353), tensor(-61.5667), tensor(...\n",
       "Name: mfcc_tensor, Length: 7487, dtype: object"
      ]
     },
     "execution_count": 66,
     "metadata": {},
     "output_type": "execute_result"
    }
   ],
   "source": [
    "data['mfcc_tensor']"
   ]
  },
  {
   "cell_type": "code",
   "execution_count": 73,
   "id": "5fd8bb82",
   "metadata": {
    "ExecuteTime": {
     "end_time": "2021-11-20T12:30:17.248385Z",
     "start_time": "2021-11-20T12:30:14.805144Z"
    }
   },
   "outputs": [],
   "source": [
    "data.to_pickle('../data/audio_vec.pkl')"
   ]
  },
  {
   "cell_type": "code",
   "execution_count": null,
   "id": "28fd759d",
   "metadata": {},
   "outputs": [],
   "source": [
    "#####"
   ]
  },
  {
   "cell_type": "code",
   "execution_count": 43,
   "id": "4ece65bc",
   "metadata": {
    "ExecuteTime": {
     "end_time": "2021-11-20T10:34:14.880934Z",
     "start_time": "2021-11-20T10:34:12.078998Z"
    }
   },
   "outputs": [],
   "source": [
    "data = pd.read_pickle('../data/audio_vec.pkl')"
   ]
  },
  {
   "cell_type": "code",
   "execution_count": 50,
   "id": "8547a93f",
   "metadata": {
    "ExecuteTime": {
     "end_time": "2021-11-20T10:36:10.106490Z",
     "start_time": "2021-11-20T10:36:10.097646Z"
    }
   },
   "outputs": [],
   "source": [
    "def max_lst(x):\n",
    "    max_n = -1000\n",
    "\n",
    "    for i in range(len(x)):\n",
    "        if max_n < max(x[i]):\n",
    "            max_n = max(x[i])\n",
    "\n",
    "    return max_n\n",
    "\n",
    "def min_lst(x):\n",
    "    min_n = 1000\n",
    "\n",
    "    for i in range(len(x)):\n",
    "        if min_n > min(x[i]):\n",
    "            min_n = min(x[i])\n",
    "\n",
    "    return min_n"
   ]
  },
  {
   "cell_type": "code",
   "execution_count": 51,
   "id": "7f54c815",
   "metadata": {
    "ExecuteTime": {
     "end_time": "2021-11-20T10:36:41.221363Z",
     "start_time": "2021-11-20T10:36:39.282829Z"
    }
   },
   "outputs": [],
   "source": [
    "mx = data['mfcc'].map(lambda x: max_lst(x))\n",
    "mn = data['mfcc'].map(lambda x: min_lst(x))"
   ]
  },
  {
   "cell_type": "code",
   "execution_count": 52,
   "id": "d602e3e2",
   "metadata": {
    "ExecuteTime": {
     "end_time": "2021-11-20T10:36:43.505263Z",
     "start_time": "2021-11-20T10:36:43.495780Z"
    }
   },
   "outputs": [
    {
     "data": {
      "text/plain": [
       "140.04067993164062"
      ]
     },
     "execution_count": 52,
     "metadata": {},
     "output_type": "execute_result"
    }
   ],
   "source": [
    "max(mx)"
   ]
  },
  {
   "cell_type": "code",
   "execution_count": 58,
   "id": "46cbc639",
   "metadata": {
    "ExecuteTime": {
     "end_time": "2021-11-20T10:45:21.030861Z",
     "start_time": "2021-11-20T10:45:21.025055Z"
    }
   },
   "outputs": [
    {
     "data": {
      "text/plain": [
       "1.0"
      ]
     },
     "execution_count": 58,
     "metadata": {},
     "output_type": "execute_result"
    }
   ],
   "source": [
    "min(mn)"
   ]
  },
  {
   "cell_type": "code",
   "execution_count": 54,
   "id": "5dd86e88",
   "metadata": {
    "ExecuteTime": {
     "end_time": "2021-11-20T10:36:53.088580Z",
     "start_time": "2021-11-20T10:36:53.074806Z"
    }
   },
   "outputs": [
    {
     "data": {
      "text/plain": [
       "-535.419921875"
      ]
     },
     "execution_count": 54,
     "metadata": {},
     "output_type": "execute_result"
    }
   ],
   "source": [
    "+537.419921875"
   ]
  },
  {
   "cell_type": "code",
   "execution_count": null,
   "id": "071dfac5",
   "metadata": {},
   "outputs": [],
   "source": []
  }
 ],
 "metadata": {
  "kernelspec": {
   "display_name": "Python 3",
   "language": "python",
   "name": "python3"
  },
  "language_info": {
   "codemirror_mode": {
    "name": "ipython",
    "version": 3
   },
   "file_extension": ".py",
   "mimetype": "text/x-python",
   "name": "python",
   "nbconvert_exporter": "python",
   "pygments_lexer": "ipython3",
   "version": "3.8.10"
  },
  "toc": {
   "base_numbering": 1,
   "nav_menu": {},
   "number_sections": false,
   "sideBar": true,
   "skip_h1_title": false,
   "title_cell": "Table of Contents",
   "title_sidebar": "Contents",
   "toc_cell": false,
   "toc_position": {},
   "toc_section_display": true,
   "toc_window_display": false
  }
 },
 "nbformat": 4,
 "nbformat_minor": 5
}
