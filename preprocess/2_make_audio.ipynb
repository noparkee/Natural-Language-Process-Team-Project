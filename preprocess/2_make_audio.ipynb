{
 "cells": [
  {
   "cell_type": "code",
   "execution_count": 7,
   "id": "fe52db25",
   "metadata": {
    "ExecuteTime": {
     "end_time": "2021-11-25T01:50:10.668993Z",
     "start_time": "2021-11-25T01:50:10.663659Z"
    }
   },
   "outputs": [],
   "source": [
    "import pandas as pd\n",
    "import librosa\n",
    "import pickle\n",
    "import numpy as np\n",
    "import torch"
   ]
  },
  {
   "cell_type": "code",
   "execution_count": 8,
   "id": "4a05ea3c",
   "metadata": {
    "ExecuteTime": {
     "end_time": "2021-11-25T01:50:11.176309Z",
     "start_time": "2021-11-25T01:50:11.113117Z"
    }
   },
   "outputs": [
    {
     "data": {
      "text/html": [
       "<div>\n",
       "<style scoped>\n",
       "    .dataframe tbody tr th:only-of-type {\n",
       "        vertical-align: middle;\n",
       "    }\n",
       "\n",
       "    .dataframe tbody tr th {\n",
       "        vertical-align: top;\n",
       "    }\n",
       "\n",
       "    .dataframe thead th {\n",
       "        text-align: right;\n",
       "    }\n",
       "</style>\n",
       "<table border=\"1\" class=\"dataframe\">\n",
       "  <thead>\n",
       "    <tr style=\"text-align: right;\">\n",
       "      <th></th>\n",
       "      <th>name</th>\n",
       "      <th>wav_path</th>\n",
       "    </tr>\n",
       "  </thead>\n",
       "  <tbody>\n",
       "    <tr>\n",
       "      <th>2672</th>\n",
       "      <td>Ses01F_impro01_F000</td>\n",
       "      <td>../data/IEMOCAP_full_release/Session1/sentence...</td>\n",
       "    </tr>\n",
       "    <tr>\n",
       "      <th>869</th>\n",
       "      <td>Ses01F_impro01_F001</td>\n",
       "      <td>../data/IEMOCAP_full_release/Session1/sentence...</td>\n",
       "    </tr>\n",
       "    <tr>\n",
       "      <th>6397</th>\n",
       "      <td>Ses01F_impro01_F002</td>\n",
       "      <td>../data/IEMOCAP_full_release/Session1/sentence...</td>\n",
       "    </tr>\n",
       "    <tr>\n",
       "      <th>2638</th>\n",
       "      <td>Ses01F_impro01_F005</td>\n",
       "      <td>../data/IEMOCAP_full_release/Session1/sentence...</td>\n",
       "    </tr>\n",
       "    <tr>\n",
       "      <th>5798</th>\n",
       "      <td>Ses01F_impro01_F006</td>\n",
       "      <td>../data/IEMOCAP_full_release/Session1/sentence...</td>\n",
       "    </tr>\n",
       "    <tr>\n",
       "      <th>...</th>\n",
       "      <td>...</td>\n",
       "      <td>...</td>\n",
       "    </tr>\n",
       "    <tr>\n",
       "      <th>2477</th>\n",
       "      <td>Ses05M_script03_2_M041</td>\n",
       "      <td>../data/IEMOCAP_full_release/Session5/sentence...</td>\n",
       "    </tr>\n",
       "    <tr>\n",
       "      <th>5732</th>\n",
       "      <td>Ses05M_script03_2_M042</td>\n",
       "      <td>../data/IEMOCAP_full_release/Session5/sentence...</td>\n",
       "    </tr>\n",
       "    <tr>\n",
       "      <th>5731</th>\n",
       "      <td>Ses05M_script03_2_M043</td>\n",
       "      <td>../data/IEMOCAP_full_release/Session5/sentence...</td>\n",
       "    </tr>\n",
       "    <tr>\n",
       "      <th>6806</th>\n",
       "      <td>Ses05M_script03_2_M044</td>\n",
       "      <td>../data/IEMOCAP_full_release/Session5/sentence...</td>\n",
       "    </tr>\n",
       "    <tr>\n",
       "      <th>3760</th>\n",
       "      <td>Ses05M_script03_2_M045</td>\n",
       "      <td>../data/IEMOCAP_full_release/Session5/sentence...</td>\n",
       "    </tr>\n",
       "  </tbody>\n",
       "</table>\n",
       "<p>7487 rows × 2 columns</p>\n",
       "</div>"
      ],
      "text/plain": [
       "                        name  \\\n",
       "2672     Ses01F_impro01_F000   \n",
       "869      Ses01F_impro01_F001   \n",
       "6397     Ses01F_impro01_F002   \n",
       "2638     Ses01F_impro01_F005   \n",
       "5798     Ses01F_impro01_F006   \n",
       "...                      ...   \n",
       "2477  Ses05M_script03_2_M041   \n",
       "5732  Ses05M_script03_2_M042   \n",
       "5731  Ses05M_script03_2_M043   \n",
       "6806  Ses05M_script03_2_M044   \n",
       "3760  Ses05M_script03_2_M045   \n",
       "\n",
       "                                               wav_path  \n",
       "2672  ../data/IEMOCAP_full_release/Session1/sentence...  \n",
       "869   ../data/IEMOCAP_full_release/Session1/sentence...  \n",
       "6397  ../data/IEMOCAP_full_release/Session1/sentence...  \n",
       "2638  ../data/IEMOCAP_full_release/Session1/sentence...  \n",
       "5798  ../data/IEMOCAP_full_release/Session1/sentence...  \n",
       "...                                                 ...  \n",
       "2477  ../data/IEMOCAP_full_release/Session5/sentence...  \n",
       "5732  ../data/IEMOCAP_full_release/Session5/sentence...  \n",
       "5731  ../data/IEMOCAP_full_release/Session5/sentence...  \n",
       "6806  ../data/IEMOCAP_full_release/Session5/sentence...  \n",
       "3760  ../data/IEMOCAP_full_release/Session5/sentence...  \n",
       "\n",
       "[7487 rows x 2 columns]"
      ]
     },
     "execution_count": 8,
     "metadata": {},
     "output_type": "execute_result"
    }
   ],
   "source": [
    "#import file description\n",
    "data = pd.read_pickle('../data/description3.pkl')\n",
    "data = data[['name','wav_path']]\n",
    "data = data.sort_values(by='name')\n",
    "data"
   ]
  },
  {
   "cell_type": "code",
   "execution_count": 9,
   "id": "3e37a9a2",
   "metadata": {
    "ExecuteTime": {
     "end_time": "2021-11-25T01:50:13.397687Z",
     "start_time": "2021-11-25T01:50:13.257348Z"
    }
   },
   "outputs": [
    {
     "data": {
      "text/plain": [
       "(20, 272)"
      ]
     },
     "execution_count": 9,
     "metadata": {},
     "output_type": "execute_result"
    }
   ],
   "source": [
    "##try one data\n",
    "file_path = data['wav_path'][3]\n",
    "##default 44100\n",
    "y, sr = librosa.load(file_path, sr=44100)\n",
    "y, sr\n",
    "librosa.feature.mfcc(y,).shape"
   ]
  },
  {
   "cell_type": "code",
   "execution_count": 10,
   "id": "c4821fb5",
   "metadata": {
    "ExecuteTime": {
     "end_time": "2021-11-25T02:00:25.519360Z",
     "start_time": "2021-11-25T01:50:15.190343Z"
    }
   },
   "outputs": [],
   "source": [
    "##run all\n",
    "data['wav_vec'] = data['wav_path'].apply(lambda x: librosa.load(x,sr=16800)[0])   # 3840"
   ]
  },
  {
   "cell_type": "code",
   "execution_count": 11,
   "id": "6b2b78f8",
   "metadata": {
    "ExecuteTime": {
     "end_time": "2021-11-25T02:01:14.584787Z",
     "start_time": "2021-11-25T02:00:25.524222Z"
    }
   },
   "outputs": [],
   "source": [
    "data['mfcc'] = data['wav_vec'].apply(lambda x: librosa.feature.mfcc(x))"
   ]
  },
  {
   "cell_type": "code",
   "execution_count": 152,
   "id": "d9105e48",
   "metadata": {
    "ExecuteTime": {
     "end_time": "2021-11-23T17:29:33.898348Z",
     "start_time": "2021-11-23T17:29:33.855709Z"
    }
   },
   "outputs": [],
   "source": [
    "#data['mfcc_move'] = data['mfcc'] + 536.6375122070312"
   ]
  },
  {
   "cell_type": "code",
   "execution_count": 12,
   "id": "5af0de2f",
   "metadata": {
    "ExecuteTime": {
     "end_time": "2021-11-25T02:01:20.724047Z",
     "start_time": "2021-11-25T02:01:14.587664Z"
    }
   },
   "outputs": [],
   "source": [
    "data.to_pickle('../data/audio_vec3.pkl')"
   ]
  },
  {
   "cell_type": "code",
   "execution_count": null,
   "id": "84c282ec",
   "metadata": {},
   "outputs": [],
   "source": [
    "#####"
   ]
  },
  {
   "cell_type": "code",
   "execution_count": 13,
   "id": "6962282d",
   "metadata": {
    "ExecuteTime": {
     "end_time": "2021-11-25T02:01:22.508812Z",
     "start_time": "2021-11-25T02:01:20.728479Z"
    }
   },
   "outputs": [
    {
     "data": {
      "text/html": [
       "<div>\n",
       "<style scoped>\n",
       "    .dataframe tbody tr th:only-of-type {\n",
       "        vertical-align: middle;\n",
       "    }\n",
       "\n",
       "    .dataframe tbody tr th {\n",
       "        vertical-align: top;\n",
       "    }\n",
       "\n",
       "    .dataframe thead th {\n",
       "        text-align: right;\n",
       "    }\n",
       "</style>\n",
       "<table border=\"1\" class=\"dataframe\">\n",
       "  <thead>\n",
       "    <tr style=\"text-align: right;\">\n",
       "      <th></th>\n",
       "      <th>name</th>\n",
       "      <th>wav_path</th>\n",
       "      <th>wav_vec</th>\n",
       "      <th>mfcc</th>\n",
       "    </tr>\n",
       "  </thead>\n",
       "  <tbody>\n",
       "    <tr>\n",
       "      <th>2672</th>\n",
       "      <td>Ses01F_impro01_F000</td>\n",
       "      <td>../data/IEMOCAP_full_release/Session1/sentence...</td>\n",
       "      <td>[-0.0049183914, -0.005193128, -0.0037302205, -...</td>\n",
       "      <td>[[-403.2992, -403.99564, -418.60098, -430.6033...</td>\n",
       "    </tr>\n",
       "    <tr>\n",
       "      <th>869</th>\n",
       "      <td>Ses01F_impro01_F001</td>\n",
       "      <td>../data/IEMOCAP_full_release/Session1/sentence...</td>\n",
       "      <td>[0.0008912799, -0.00080922246, -0.0008829906, ...</td>\n",
       "      <td>[[-440.9477, -440.35678, -444.22382, -454.4793...</td>\n",
       "    </tr>\n",
       "    <tr>\n",
       "      <th>6397</th>\n",
       "      <td>Ses01F_impro01_F002</td>\n",
       "      <td>../data/IEMOCAP_full_release/Session1/sentence...</td>\n",
       "      <td>[-0.00035539138, -0.00018541797, 0.00036854547...</td>\n",
       "      <td>[[-488.7508, -483.17978, -487.37247, -491.6459...</td>\n",
       "    </tr>\n",
       "    <tr>\n",
       "      <th>2638</th>\n",
       "      <td>Ses01F_impro01_F005</td>\n",
       "      <td>../data/IEMOCAP_full_release/Session1/sentence...</td>\n",
       "      <td>[-0.0008307451, -0.001257612, -0.00163322, -0....</td>\n",
       "      <td>[[-442.62433, -442.75513, -447.25168, -449.531...</td>\n",
       "    </tr>\n",
       "    <tr>\n",
       "      <th>5798</th>\n",
       "      <td>Ses01F_impro01_F006</td>\n",
       "      <td>../data/IEMOCAP_full_release/Session1/sentence...</td>\n",
       "      <td>[0.0059672054, 0.007951581, 0.008477929, 0.009...</td>\n",
       "      <td>[[-388.91025, -391.68872, -407.02652, -420.609...</td>\n",
       "    </tr>\n",
       "    <tr>\n",
       "      <th>...</th>\n",
       "      <td>...</td>\n",
       "      <td>...</td>\n",
       "      <td>...</td>\n",
       "      <td>...</td>\n",
       "    </tr>\n",
       "    <tr>\n",
       "      <th>2477</th>\n",
       "      <td>Ses05M_script03_2_M041</td>\n",
       "      <td>../data/IEMOCAP_full_release/Session5/sentence...</td>\n",
       "      <td>[-0.0029622193, -0.0026563518, -0.0023848368, ...</td>\n",
       "      <td>[[-454.80136, -452.6492, -455.89185, -456.3338...</td>\n",
       "    </tr>\n",
       "    <tr>\n",
       "      <th>5732</th>\n",
       "      <td>Ses05M_script03_2_M042</td>\n",
       "      <td>../data/IEMOCAP_full_release/Session5/sentence...</td>\n",
       "      <td>[0.0038855707, -0.0038261486, -0.019008784, -0...</td>\n",
       "      <td>[[-274.242, -265.47397, -266.55762, -278.7483,...</td>\n",
       "    </tr>\n",
       "    <tr>\n",
       "      <th>5731</th>\n",
       "      <td>Ses05M_script03_2_M043</td>\n",
       "      <td>../data/IEMOCAP_full_release/Session5/sentence...</td>\n",
       "      <td>[0.00737412, 0.0081156045, 0.007887541, 0.0111...</td>\n",
       "      <td>[[-281.0096, -180.58855, -64.66723, -16.851734...</td>\n",
       "    </tr>\n",
       "    <tr>\n",
       "      <th>6806</th>\n",
       "      <td>Ses05M_script03_2_M044</td>\n",
       "      <td>../data/IEMOCAP_full_release/Session5/sentence...</td>\n",
       "      <td>[0.15159218, 0.1694383, 0.11883879, 0.05175138...</td>\n",
       "      <td>[[-54.12678, -51.766266, -53.77585, -69.686646...</td>\n",
       "    </tr>\n",
       "    <tr>\n",
       "      <th>3760</th>\n",
       "      <td>Ses05M_script03_2_M045</td>\n",
       "      <td>../data/IEMOCAP_full_release/Session5/sentence...</td>\n",
       "      <td>[0.013734345, 0.006185781, -0.012332853, -0.01...</td>\n",
       "      <td>[[-315.00238, -259.72592, -176.01581, -145.843...</td>\n",
       "    </tr>\n",
       "  </tbody>\n",
       "</table>\n",
       "<p>7487 rows × 4 columns</p>\n",
       "</div>"
      ],
      "text/plain": [
       "                        name  \\\n",
       "2672     Ses01F_impro01_F000   \n",
       "869      Ses01F_impro01_F001   \n",
       "6397     Ses01F_impro01_F002   \n",
       "2638     Ses01F_impro01_F005   \n",
       "5798     Ses01F_impro01_F006   \n",
       "...                      ...   \n",
       "2477  Ses05M_script03_2_M041   \n",
       "5732  Ses05M_script03_2_M042   \n",
       "5731  Ses05M_script03_2_M043   \n",
       "6806  Ses05M_script03_2_M044   \n",
       "3760  Ses05M_script03_2_M045   \n",
       "\n",
       "                                               wav_path  \\\n",
       "2672  ../data/IEMOCAP_full_release/Session1/sentence...   \n",
       "869   ../data/IEMOCAP_full_release/Session1/sentence...   \n",
       "6397  ../data/IEMOCAP_full_release/Session1/sentence...   \n",
       "2638  ../data/IEMOCAP_full_release/Session1/sentence...   \n",
       "5798  ../data/IEMOCAP_full_release/Session1/sentence...   \n",
       "...                                                 ...   \n",
       "2477  ../data/IEMOCAP_full_release/Session5/sentence...   \n",
       "5732  ../data/IEMOCAP_full_release/Session5/sentence...   \n",
       "5731  ../data/IEMOCAP_full_release/Session5/sentence...   \n",
       "6806  ../data/IEMOCAP_full_release/Session5/sentence...   \n",
       "3760  ../data/IEMOCAP_full_release/Session5/sentence...   \n",
       "\n",
       "                                                wav_vec  \\\n",
       "2672  [-0.0049183914, -0.005193128, -0.0037302205, -...   \n",
       "869   [0.0008912799, -0.00080922246, -0.0008829906, ...   \n",
       "6397  [-0.00035539138, -0.00018541797, 0.00036854547...   \n",
       "2638  [-0.0008307451, -0.001257612, -0.00163322, -0....   \n",
       "5798  [0.0059672054, 0.007951581, 0.008477929, 0.009...   \n",
       "...                                                 ...   \n",
       "2477  [-0.0029622193, -0.0026563518, -0.0023848368, ...   \n",
       "5732  [0.0038855707, -0.0038261486, -0.019008784, -0...   \n",
       "5731  [0.00737412, 0.0081156045, 0.007887541, 0.0111...   \n",
       "6806  [0.15159218, 0.1694383, 0.11883879, 0.05175138...   \n",
       "3760  [0.013734345, 0.006185781, -0.012332853, -0.01...   \n",
       "\n",
       "                                                   mfcc  \n",
       "2672  [[-403.2992, -403.99564, -418.60098, -430.6033...  \n",
       "869   [[-440.9477, -440.35678, -444.22382, -454.4793...  \n",
       "6397  [[-488.7508, -483.17978, -487.37247, -491.6459...  \n",
       "2638  [[-442.62433, -442.75513, -447.25168, -449.531...  \n",
       "5798  [[-388.91025, -391.68872, -407.02652, -420.609...  \n",
       "...                                                 ...  \n",
       "2477  [[-454.80136, -452.6492, -455.89185, -456.3338...  \n",
       "5732  [[-274.242, -265.47397, -266.55762, -278.7483,...  \n",
       "5731  [[-281.0096, -180.58855, -64.66723, -16.851734...  \n",
       "6806  [[-54.12678, -51.766266, -53.77585, -69.686646...  \n",
       "3760  [[-315.00238, -259.72592, -176.01581, -145.843...  \n",
       "\n",
       "[7487 rows x 4 columns]"
      ]
     },
     "execution_count": 13,
     "metadata": {},
     "output_type": "execute_result"
    }
   ],
   "source": [
    "data = pd.read_pickle('../data/audio_vec3.pkl')\n",
    "\n",
    "data"
   ]
  },
  {
   "cell_type": "code",
   "execution_count": 14,
   "id": "22bb9a91",
   "metadata": {
    "ExecuteTime": {
     "end_time": "2021-11-25T02:01:22.663475Z",
     "start_time": "2021-11-25T02:01:22.511661Z"
    }
   },
   "outputs": [],
   "source": [
    "data['mfcc_tensor'] = data['mfcc'].map(lambda x: torch.tensor(x).permute(1,0))\n",
    "data['len'] = data['mfcc'].map(lambda x: x.shape[1])"
   ]
  },
  {
   "cell_type": "code",
   "execution_count": 20,
   "id": "ec178882",
   "metadata": {
    "ExecuteTime": {
     "end_time": "2021-11-25T02:55:48.621051Z",
     "start_time": "2021-11-25T02:55:48.615758Z"
    }
   },
   "outputs": [
    {
     "data": {
      "text/plain": [
       "20"
      ]
     },
     "execution_count": 20,
     "metadata": {},
     "output_type": "execute_result"
    }
   ],
   "source": [
    "data['len']"
   ]
  },
  {
   "cell_type": "code",
   "execution_count": 16,
   "id": "e53511f5",
   "metadata": {
    "ExecuteTime": {
     "end_time": "2021-11-25T02:01:24.731921Z",
     "start_time": "2021-11-25T02:01:22.671804Z"
    }
   },
   "outputs": [
    {
     "data": {
      "text/plain": [
       "2672    [[tensor(-403.2992), tensor(111.5577), tensor(...\n",
       "869     [[tensor(-440.9477), tensor(86.9970), tensor(3...\n",
       "6397    [[tensor(-488.7508), tensor(134.2754), tensor(...\n",
       "2638    [[tensor(-442.6243), tensor(100.5072), tensor(...\n",
       "5798    [[tensor(-388.9102), tensor(110.6669), tensor(...\n",
       "                              ...                        \n",
       "2477    [[tensor(-454.8014), tensor(73.3494), tensor(3...\n",
       "5732    [[tensor(-274.2420), tensor(46.8648), tensor(-...\n",
       "5731    [[tensor(-281.0096), tensor(105.4553), tensor(...\n",
       "6806    [[tensor(-54.1268), tensor(64.4214), tensor(-1...\n",
       "3760    [[tensor(-315.0024), tensor(45.3514), tensor(4...\n",
       "Name: mfcc_tensor, Length: 7487, dtype: object"
      ]
     },
     "execution_count": 16,
     "metadata": {},
     "output_type": "execute_result"
    }
   ],
   "source": [
    "data['mfcc_tensor']"
   ]
  },
  {
   "cell_type": "code",
   "execution_count": 17,
   "id": "50fffe48",
   "metadata": {
    "ExecuteTime": {
     "end_time": "2021-11-25T02:01:29.076422Z",
     "start_time": "2021-11-25T02:01:24.734301Z"
    }
   },
   "outputs": [
    {
     "data": {
      "text/html": [
       "<div>\n",
       "<style scoped>\n",
       "    .dataframe tbody tr th:only-of-type {\n",
       "        vertical-align: middle;\n",
       "    }\n",
       "\n",
       "    .dataframe tbody tr th {\n",
       "        vertical-align: top;\n",
       "    }\n",
       "\n",
       "    .dataframe thead th {\n",
       "        text-align: right;\n",
       "    }\n",
       "</style>\n",
       "<table border=\"1\" class=\"dataframe\">\n",
       "  <thead>\n",
       "    <tr style=\"text-align: right;\">\n",
       "      <th></th>\n",
       "      <th>name</th>\n",
       "      <th>wav_path</th>\n",
       "      <th>wav_vec</th>\n",
       "      <th>mfcc</th>\n",
       "      <th>mfcc_tensor</th>\n",
       "      <th>len</th>\n",
       "    </tr>\n",
       "  </thead>\n",
       "  <tbody>\n",
       "    <tr>\n",
       "      <th>2672</th>\n",
       "      <td>Ses01F_impro01_F000</td>\n",
       "      <td>../data/IEMOCAP_full_release/Session1/sentence...</td>\n",
       "      <td>[-0.0049183914, -0.005193128, -0.0037302205, -...</td>\n",
       "      <td>[[-403.2992, -403.99564, -418.60098, -430.6033...</td>\n",
       "      <td>[[tensor(-403.2992), tensor(111.5577), tensor(...</td>\n",
       "      <td>64</td>\n",
       "    </tr>\n",
       "    <tr>\n",
       "      <th>869</th>\n",
       "      <td>Ses01F_impro01_F001</td>\n",
       "      <td>../data/IEMOCAP_full_release/Session1/sentence...</td>\n",
       "      <td>[0.0008912799, -0.00080922246, -0.0008829906, ...</td>\n",
       "      <td>[[-440.9477, -440.35678, -444.22382, -454.4793...</td>\n",
       "      <td>[[tensor(-440.9477), tensor(86.9970), tensor(3...</td>\n",
       "      <td>46</td>\n",
       "    </tr>\n",
       "    <tr>\n",
       "      <th>6397</th>\n",
       "      <td>Ses01F_impro01_F002</td>\n",
       "      <td>../data/IEMOCAP_full_release/Session1/sentence...</td>\n",
       "      <td>[-0.00035539138, -0.00018541797, 0.00036854547...</td>\n",
       "      <td>[[-488.7508, -483.17978, -487.37247, -491.6459...</td>\n",
       "      <td>[[tensor(-488.7508), tensor(134.2754), tensor(...</td>\n",
       "      <td>103</td>\n",
       "    </tr>\n",
       "    <tr>\n",
       "      <th>2638</th>\n",
       "      <td>Ses01F_impro01_F005</td>\n",
       "      <td>../data/IEMOCAP_full_release/Session1/sentence...</td>\n",
       "      <td>[-0.0008307451, -0.001257612, -0.00163322, -0....</td>\n",
       "      <td>[[-442.62433, -442.75513, -447.25168, -449.531...</td>\n",
       "      <td>[[tensor(-442.6243), tensor(100.5072), tensor(...</td>\n",
       "      <td>133</td>\n",
       "    </tr>\n",
       "    <tr>\n",
       "      <th>5798</th>\n",
       "      <td>Ses01F_impro01_F006</td>\n",
       "      <td>../data/IEMOCAP_full_release/Session1/sentence...</td>\n",
       "      <td>[0.0059672054, 0.007951581, 0.008477929, 0.009...</td>\n",
       "      <td>[[-388.91025, -391.68872, -407.02652, -420.609...</td>\n",
       "      <td>[[tensor(-388.9102), tensor(110.6669), tensor(...</td>\n",
       "      <td>152</td>\n",
       "    </tr>\n",
       "    <tr>\n",
       "      <th>...</th>\n",
       "      <td>...</td>\n",
       "      <td>...</td>\n",
       "      <td>...</td>\n",
       "      <td>...</td>\n",
       "      <td>...</td>\n",
       "      <td>...</td>\n",
       "    </tr>\n",
       "    <tr>\n",
       "      <th>2477</th>\n",
       "      <td>Ses05M_script03_2_M041</td>\n",
       "      <td>../data/IEMOCAP_full_release/Session5/sentence...</td>\n",
       "      <td>[-0.0029622193, -0.0026563518, -0.0023848368, ...</td>\n",
       "      <td>[[-454.80136, -452.6492, -455.89185, -456.3338...</td>\n",
       "      <td>[[tensor(-454.8014), tensor(73.3494), tensor(3...</td>\n",
       "      <td>272</td>\n",
       "    </tr>\n",
       "    <tr>\n",
       "      <th>5732</th>\n",
       "      <td>Ses05M_script03_2_M042</td>\n",
       "      <td>../data/IEMOCAP_full_release/Session5/sentence...</td>\n",
       "      <td>[0.0038855707, -0.0038261486, -0.019008784, -0...</td>\n",
       "      <td>[[-274.242, -265.47397, -266.55762, -278.7483,...</td>\n",
       "      <td>[[tensor(-274.2420), tensor(46.8648), tensor(-...</td>\n",
       "      <td>58</td>\n",
       "    </tr>\n",
       "    <tr>\n",
       "      <th>5731</th>\n",
       "      <td>Ses05M_script03_2_M043</td>\n",
       "      <td>../data/IEMOCAP_full_release/Session5/sentence...</td>\n",
       "      <td>[0.00737412, 0.0081156045, 0.007887541, 0.0111...</td>\n",
       "      <td>[[-281.0096, -180.58855, -64.66723, -16.851734...</td>\n",
       "      <td>[[tensor(-281.0096), tensor(105.4553), tensor(...</td>\n",
       "      <td>74</td>\n",
       "    </tr>\n",
       "    <tr>\n",
       "      <th>6806</th>\n",
       "      <td>Ses05M_script03_2_M044</td>\n",
       "      <td>../data/IEMOCAP_full_release/Session5/sentence...</td>\n",
       "      <td>[0.15159218, 0.1694383, 0.11883879, 0.05175138...</td>\n",
       "      <td>[[-54.12678, -51.766266, -53.77585, -69.686646...</td>\n",
       "      <td>[[tensor(-54.1268), tensor(64.4214), tensor(-1...</td>\n",
       "      <td>147</td>\n",
       "    </tr>\n",
       "    <tr>\n",
       "      <th>3760</th>\n",
       "      <td>Ses05M_script03_2_M045</td>\n",
       "      <td>../data/IEMOCAP_full_release/Session5/sentence...</td>\n",
       "      <td>[0.013734345, 0.006185781, -0.012332853, -0.01...</td>\n",
       "      <td>[[-315.00238, -259.72592, -176.01581, -145.843...</td>\n",
       "      <td>[[tensor(-315.0024), tensor(45.3514), tensor(4...</td>\n",
       "      <td>198</td>\n",
       "    </tr>\n",
       "  </tbody>\n",
       "</table>\n",
       "<p>7487 rows × 6 columns</p>\n",
       "</div>"
      ],
      "text/plain": [
       "                        name  \\\n",
       "2672     Ses01F_impro01_F000   \n",
       "869      Ses01F_impro01_F001   \n",
       "6397     Ses01F_impro01_F002   \n",
       "2638     Ses01F_impro01_F005   \n",
       "5798     Ses01F_impro01_F006   \n",
       "...                      ...   \n",
       "2477  Ses05M_script03_2_M041   \n",
       "5732  Ses05M_script03_2_M042   \n",
       "5731  Ses05M_script03_2_M043   \n",
       "6806  Ses05M_script03_2_M044   \n",
       "3760  Ses05M_script03_2_M045   \n",
       "\n",
       "                                               wav_path  \\\n",
       "2672  ../data/IEMOCAP_full_release/Session1/sentence...   \n",
       "869   ../data/IEMOCAP_full_release/Session1/sentence...   \n",
       "6397  ../data/IEMOCAP_full_release/Session1/sentence...   \n",
       "2638  ../data/IEMOCAP_full_release/Session1/sentence...   \n",
       "5798  ../data/IEMOCAP_full_release/Session1/sentence...   \n",
       "...                                                 ...   \n",
       "2477  ../data/IEMOCAP_full_release/Session5/sentence...   \n",
       "5732  ../data/IEMOCAP_full_release/Session5/sentence...   \n",
       "5731  ../data/IEMOCAP_full_release/Session5/sentence...   \n",
       "6806  ../data/IEMOCAP_full_release/Session5/sentence...   \n",
       "3760  ../data/IEMOCAP_full_release/Session5/sentence...   \n",
       "\n",
       "                                                wav_vec  \\\n",
       "2672  [-0.0049183914, -0.005193128, -0.0037302205, -...   \n",
       "869   [0.0008912799, -0.00080922246, -0.0008829906, ...   \n",
       "6397  [-0.00035539138, -0.00018541797, 0.00036854547...   \n",
       "2638  [-0.0008307451, -0.001257612, -0.00163322, -0....   \n",
       "5798  [0.0059672054, 0.007951581, 0.008477929, 0.009...   \n",
       "...                                                 ...   \n",
       "2477  [-0.0029622193, -0.0026563518, -0.0023848368, ...   \n",
       "5732  [0.0038855707, -0.0038261486, -0.019008784, -0...   \n",
       "5731  [0.00737412, 0.0081156045, 0.007887541, 0.0111...   \n",
       "6806  [0.15159218, 0.1694383, 0.11883879, 0.05175138...   \n",
       "3760  [0.013734345, 0.006185781, -0.012332853, -0.01...   \n",
       "\n",
       "                                                   mfcc  \\\n",
       "2672  [[-403.2992, -403.99564, -418.60098, -430.6033...   \n",
       "869   [[-440.9477, -440.35678, -444.22382, -454.4793...   \n",
       "6397  [[-488.7508, -483.17978, -487.37247, -491.6459...   \n",
       "2638  [[-442.62433, -442.75513, -447.25168, -449.531...   \n",
       "5798  [[-388.91025, -391.68872, -407.02652, -420.609...   \n",
       "...                                                 ...   \n",
       "2477  [[-454.80136, -452.6492, -455.89185, -456.3338...   \n",
       "5732  [[-274.242, -265.47397, -266.55762, -278.7483,...   \n",
       "5731  [[-281.0096, -180.58855, -64.66723, -16.851734...   \n",
       "6806  [[-54.12678, -51.766266, -53.77585, -69.686646...   \n",
       "3760  [[-315.00238, -259.72592, -176.01581, -145.843...   \n",
       "\n",
       "                                            mfcc_tensor  len  \n",
       "2672  [[tensor(-403.2992), tensor(111.5577), tensor(...   64  \n",
       "869   [[tensor(-440.9477), tensor(86.9970), tensor(3...   46  \n",
       "6397  [[tensor(-488.7508), tensor(134.2754), tensor(...  103  \n",
       "2638  [[tensor(-442.6243), tensor(100.5072), tensor(...  133  \n",
       "5798  [[tensor(-388.9102), tensor(110.6669), tensor(...  152  \n",
       "...                                                 ...  ...  \n",
       "2477  [[tensor(-454.8014), tensor(73.3494), tensor(3...  272  \n",
       "5732  [[tensor(-274.2420), tensor(46.8648), tensor(-...   58  \n",
       "5731  [[tensor(-281.0096), tensor(105.4553), tensor(...   74  \n",
       "6806  [[tensor(-54.1268), tensor(64.4214), tensor(-1...  147  \n",
       "3760  [[tensor(-315.0024), tensor(45.3514), tensor(4...  198  \n",
       "\n",
       "[7487 rows x 6 columns]"
      ]
     },
     "execution_count": 17,
     "metadata": {},
     "output_type": "execute_result"
    }
   ],
   "source": [
    "data"
   ]
  },
  {
   "cell_type": "code",
   "execution_count": 18,
   "id": "5fd8bb82",
   "metadata": {
    "ExecuteTime": {
     "end_time": "2021-11-25T02:01:35.885319Z",
     "start_time": "2021-11-25T02:01:29.078116Z"
    }
   },
   "outputs": [],
   "source": [
    "data.to_pickle('../data/audio_vec3.pkl')"
   ]
  },
  {
   "cell_type": "code",
   "execution_count": null,
   "id": "28fd759d",
   "metadata": {},
   "outputs": [],
   "source": [
    "#####"
   ]
  },
  {
   "cell_type": "code",
   "execution_count": 4,
   "id": "4ece65bc",
   "metadata": {
    "ExecuteTime": {
     "end_time": "2021-11-25T01:49:49.364215Z",
     "start_time": "2021-11-25T01:49:48.643068Z"
    }
   },
   "outputs": [],
   "source": [
    "data = pd.read_pickle('../data/audio_vec3.pkl')"
   ]
  },
  {
   "cell_type": "code",
   "execution_count": 135,
   "id": "8547a93f",
   "metadata": {
    "ExecuteTime": {
     "end_time": "2021-11-23T17:27:29.271833Z",
     "start_time": "2021-11-23T17:27:29.263604Z"
    }
   },
   "outputs": [],
   "source": [
    "def max_lst(x):\n",
    "    max_n = -1000\n",
    "\n",
    "    for i in range(len(x)):\n",
    "        if max_n < max(x[i]):\n",
    "            max_n = max(x[i])\n",
    "\n",
    "    return max_n\n",
    "\n",
    "def min_lst(x):\n",
    "    min_n = 1000\n",
    "\n",
    "    for i in range(len(x)):\n",
    "        if min_n > min(x[i]):\n",
    "            min_n = min(x[i])\n",
    "\n",
    "    return min_n"
   ]
  },
  {
   "cell_type": "code",
   "execution_count": 161,
   "id": "7f54c815",
   "metadata": {
    "ExecuteTime": {
     "end_time": "2021-11-23T17:30:18.671273Z",
     "start_time": "2021-11-23T17:30:17.212479Z"
    }
   },
   "outputs": [],
   "source": [
    "mx = data['mfcc'].map(lambda x: max_lst(x))\n",
    "mn = data['mfcc'].map(lambda x: min_lst(x))"
   ]
  },
  {
   "cell_type": "code",
   "execution_count": 162,
   "id": "d602e3e2",
   "metadata": {
    "ExecuteTime": {
     "end_time": "2021-11-23T17:30:18.680862Z",
     "start_time": "2021-11-23T17:30:18.674524Z"
    }
   },
   "outputs": [
    {
     "data": {
      "text/plain": [
       "140.04067993164062"
      ]
     },
     "execution_count": 162,
     "metadata": {},
     "output_type": "execute_result"
    }
   ],
   "source": [
    "max(mx)"
   ]
  },
  {
   "cell_type": "code",
   "execution_count": 163,
   "id": "46cbc639",
   "metadata": {
    "ExecuteTime": {
     "end_time": "2021-11-23T17:30:18.693011Z",
     "start_time": "2021-11-23T17:30:18.683630Z"
    }
   },
   "outputs": [
    {
     "data": {
      "text/plain": [
       "-535.6375122070312"
      ]
     },
     "execution_count": 163,
     "metadata": {},
     "output_type": "execute_result"
    }
   ],
   "source": [
    "min(mn)"
   ]
  },
  {
   "cell_type": "code",
   "execution_count": 139,
   "id": "5dd86e88",
   "metadata": {
    "ExecuteTime": {
     "end_time": "2021-11-23T17:27:33.456364Z",
     "start_time": "2021-11-23T17:27:33.449620Z"
    }
   },
   "outputs": [
    {
     "data": {
      "text/plain": [
       "536.6375122070312"
      ]
     },
     "execution_count": 139,
     "metadata": {},
     "output_type": "execute_result"
    }
   ],
   "source": [
    "+536.6375122070312"
   ]
  },
  {
   "cell_type": "code",
   "execution_count": null,
   "id": "d4eaba3a",
   "metadata": {},
   "outputs": [],
   "source": []
  }
 ],
 "metadata": {
  "kernelspec": {
   "display_name": "Python 3",
   "language": "python",
   "name": "python3"
  },
  "language_info": {
   "codemirror_mode": {
    "name": "ipython",
    "version": 3
   },
   "file_extension": ".py",
   "mimetype": "text/x-python",
   "name": "python",
   "nbconvert_exporter": "python",
   "pygments_lexer": "ipython3",
   "version": "3.8.10"
  },
  "toc": {
   "base_numbering": 1,
   "nav_menu": {},
   "number_sections": false,
   "sideBar": true,
   "skip_h1_title": false,
   "title_cell": "Table of Contents",
   "title_sidebar": "Contents",
   "toc_cell": false,
   "toc_position": {},
   "toc_section_display": true,
   "toc_window_display": false
  }
 },
 "nbformat": 4,
 "nbformat_minor": 5
}
