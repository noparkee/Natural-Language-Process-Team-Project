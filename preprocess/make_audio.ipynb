{
 "cells": [
  {
   "cell_type": "code",
   "execution_count": null,
   "id": "fe52db25",
   "metadata": {},
   "outputs": [],
   "source": [
    "import pandas as pd\n",
    "import librosa\n",
    "import pickle\n",
    "import numpy as np"
   ]
  },
  {
   "cell_type": "code",
   "execution_count": null,
   "id": "4a05ea3c",
   "metadata": {},
   "outputs": [],
   "source": [
    "#import file description\n",
    "data = pd.read_pickle('../data/description.pkl')\n",
    "data = data[['name','wav_path']]\n",
    "data = data.sort_values(by='name')\n",
    "data"
   ]
  },
  {
   "cell_type": "code",
   "execution_count": null,
   "id": "3e37a9a2",
   "metadata": {},
   "outputs": [],
   "source": [
    "##try one data\n",
    "file_path = data['wav_path'][3]\n",
    "\n",
    "##default 44100\n",
    "y, sr = librosa.load(file_path, sr=44100)\n",
    "y, sr\n",
    "librosa.feature.mfcc(y,).shape"
   ]
  },
  {
   "cell_type": "code",
   "execution_count": null,
   "id": "c4821fb5",
   "metadata": {},
   "outputs": [],
   "source": [
    "##run all\n",
    "data['wav_vec'] = data['wav_path'].apply(lambda x: librosa.load(x,sr=3840)[0])"
   ]
  },
  {
   "cell_type": "code",
   "execution_count": null,
   "id": "6b2b78f8",
   "metadata": {},
   "outputs": [],
   "source": [
    "data['mfcc'] = data['wav_vec'].apply(lambda x: librosa.feature.mfcc(x))"
   ]
  },
  {
   "cell_type": "code",
   "execution_count": null,
   "id": "b56b2cba",
   "metadata": {},
   "outputs": [],
   "source": [
    "data.to_pickle('../data/audio_vec.pkl')"
   ]
  },
  {
   "cell_type": "code",
   "execution_count": null,
   "id": "84c282ec",
   "metadata": {},
   "outputs": [],
   "source": [
    "###"
   ]
  },
  {
   "cell_type": "code",
   "execution_count": null,
   "id": "6962282d",
   "metadata": {},
   "outputs": [],
   "source": [
    "data = pd.read_pickle('../data/audio_vec.pkl')\n",
    "\n",
    "data"
   ]
  },
  {
   "cell_type": "code",
   "execution_count": null,
   "id": "4b9ff66f",
   "metadata": {},
   "outputs": [],
   "source": [
    "# mfcc에 0이 있는지 확인하기 위해 --> 없음\n",
    "zero_in = list(data['mfcc'].map(lambda x: 0 in x))\n",
    "\n",
    "True in zero_in"
   ]
  },
  {
   "cell_type": "code",
   "execution_count": null,
   "id": "7b125df8",
   "metadata": {},
   "outputs": [],
   "source": [
    "### test\n",
    "tmp = list(data['mfcc'].map(lambda x: 20*(x.shape[1])))\n",
    "print((sum(tmp)/len(tmp)))\n",
    "print(max(tmp))"
   ]
  },
  {
   "cell_type": "code",
   "execution_count": null,
   "id": "17f1827c",
   "metadata": {},
   "outputs": [],
   "source": [
    "### 최소, 최대 찾기!\n",
    "flag = False\n",
    "for i, l in enumerate(data['mfcc']):\n",
    "    print(i)\n",
    "    if not flag:\n",
    "        lst = np.array(l).flatten().tolist()\n",
    "        flag = True\n",
    "    else:\n",
    "        lst.extend(np.array(l).flatten().tolist())"
   ]
  },
  {
   "cell_type": "code",
   "execution_count": null,
   "id": "4797d4ce",
   "metadata": {},
   "outputs": [],
   "source": [
    "print(max(lst))\n",
    "print(min(lst))"
   ]
  },
  {
   "cell_type": "code",
   "execution_count": null,
   "id": "bbb942b1",
   "metadata": {},
   "outputs": [],
   "source": [
    "### mfcc 값이 1부터 시작하도록\n",
    "for i, lst in enumerate(data['mfcc']):\n",
    "    for l in lst:\n",
    "        l += 537.419921875"
   ]
  },
  {
   "cell_type": "code",
   "execution_count": null,
   "id": "e8a9330e",
   "metadata": {},
   "outputs": [],
   "source": [
    "data\n",
    "\n",
    "data.to_pickle('../data/audio_vec2.pkl')"
   ]
  }
 ],
 "metadata": {
  "kernelspec": {
   "display_name": "Python 3",
   "language": "python",
   "name": "python3"
  },
  "language_info": {
   "codemirror_mode": {
    "name": "ipython",
    "version": 3
   },
   "file_extension": ".py",
   "mimetype": "text/x-python",
   "name": "python",
   "nbconvert_exporter": "python",
   "pygments_lexer": "ipython3",
   "version": "3.8.10"
  },
  "toc": {
   "base_numbering": 1,
   "nav_menu": {},
   "number_sections": false,
   "sideBar": true,
   "skip_h1_title": false,
   "title_cell": "Table of Contents",
   "title_sidebar": "Contents",
   "toc_cell": false,
   "toc_position": {},
   "toc_section_display": true,
   "toc_window_display": false
  }
 },
 "nbformat": 4,
 "nbformat_minor": 5
}
