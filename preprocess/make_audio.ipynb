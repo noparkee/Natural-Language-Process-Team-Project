{
 "cells": [
  {
   "cell_type": "code",
   "execution_count": 17,
   "id": "fe52db25",
   "metadata": {
    "ExecuteTime": {
     "end_time": "2021-11-18T13:25:58.242679Z",
     "start_time": "2021-11-18T13:25:58.237788Z"
    }
   },
   "outputs": [],
   "source": [
    "import pandas as pd\n",
    "import librosa\n",
    "import pickle\n",
    "import numpy as np\n",
    "import torch"
   ]
  },
  {
   "cell_type": "code",
   "execution_count": 3,
   "id": "4a05ea3c",
   "metadata": {
    "ExecuteTime": {
     "end_time": "2021-11-18T12:26:03.728036Z",
     "start_time": "2021-11-18T12:26:03.704119Z"
    }
   },
   "outputs": [
    {
     "data": {
      "text/html": [
       "<div>\n",
       "<style scoped>\n",
       "    .dataframe tbody tr th:only-of-type {\n",
       "        vertical-align: middle;\n",
       "    }\n",
       "\n",
       "    .dataframe tbody tr th {\n",
       "        vertical-align: top;\n",
       "    }\n",
       "\n",
       "    .dataframe thead th {\n",
       "        text-align: right;\n",
       "    }\n",
       "</style>\n",
       "<table border=\"1\" class=\"dataframe\">\n",
       "  <thead>\n",
       "    <tr style=\"text-align: right;\">\n",
       "      <th></th>\n",
       "      <th>name</th>\n",
       "      <th>wav_path</th>\n",
       "    </tr>\n",
       "  </thead>\n",
       "  <tbody>\n",
       "    <tr>\n",
       "      <th>144</th>\n",
       "      <td>Ses01F_impro01_F000</td>\n",
       "      <td>data/IEMOCAP_full_release/Session1/sentences/w...</td>\n",
       "    </tr>\n",
       "    <tr>\n",
       "      <th>145</th>\n",
       "      <td>Ses01F_impro01_F001</td>\n",
       "      <td>data/IEMOCAP_full_release/Session1/sentences/w...</td>\n",
       "    </tr>\n",
       "    <tr>\n",
       "      <th>146</th>\n",
       "      <td>Ses01F_impro01_F002</td>\n",
       "      <td>data/IEMOCAP_full_release/Session1/sentences/w...</td>\n",
       "    </tr>\n",
       "    <tr>\n",
       "      <th>147</th>\n",
       "      <td>Ses01F_impro01_F003</td>\n",
       "      <td>data/IEMOCAP_full_release/Session1/sentences/w...</td>\n",
       "    </tr>\n",
       "    <tr>\n",
       "      <th>16</th>\n",
       "      <td>Ses01F_impro02_F000</td>\n",
       "      <td>data/IEMOCAP_full_release/Session1/sentences/w...</td>\n",
       "    </tr>\n",
       "    <tr>\n",
       "      <th>...</th>\n",
       "      <td>...</td>\n",
       "      <td>...</td>\n",
       "    </tr>\n",
       "    <tr>\n",
       "      <th>1120</th>\n",
       "      <td>Ses05M_script03_2_F008</td>\n",
       "      <td>data/IEMOCAP_full_release/Session5/sentences/w...</td>\n",
       "    </tr>\n",
       "    <tr>\n",
       "      <th>1121</th>\n",
       "      <td>Ses05M_script03_2_F009</td>\n",
       "      <td>data/IEMOCAP_full_release/Session5/sentences/w...</td>\n",
       "    </tr>\n",
       "    <tr>\n",
       "      <th>1122</th>\n",
       "      <td>Ses05M_script03_2_F010</td>\n",
       "      <td>data/IEMOCAP_full_release/Session5/sentences/w...</td>\n",
       "    </tr>\n",
       "    <tr>\n",
       "      <th>1123</th>\n",
       "      <td>Ses05M_script03_2_F011</td>\n",
       "      <td>data/IEMOCAP_full_release/Session5/sentences/w...</td>\n",
       "    </tr>\n",
       "    <tr>\n",
       "      <th>1124</th>\n",
       "      <td>Ses05M_script03_2_F012</td>\n",
       "      <td>data/IEMOCAP_full_release/Session5/sentences/w...</td>\n",
       "    </tr>\n",
       "  </tbody>\n",
       "</table>\n",
       "<p>1391 rows × 2 columns</p>\n",
       "</div>"
      ],
      "text/plain": [
       "                        name  \\\n",
       "144      Ses01F_impro01_F000   \n",
       "145      Ses01F_impro01_F001   \n",
       "146      Ses01F_impro01_F002   \n",
       "147      Ses01F_impro01_F003   \n",
       "16       Ses01F_impro02_F000   \n",
       "...                      ...   \n",
       "1120  Ses05M_script03_2_F008   \n",
       "1121  Ses05M_script03_2_F009   \n",
       "1122  Ses05M_script03_2_F010   \n",
       "1123  Ses05M_script03_2_F011   \n",
       "1124  Ses05M_script03_2_F012   \n",
       "\n",
       "                                               wav_path  \n",
       "144   data/IEMOCAP_full_release/Session1/sentences/w...  \n",
       "145   data/IEMOCAP_full_release/Session1/sentences/w...  \n",
       "146   data/IEMOCAP_full_release/Session1/sentences/w...  \n",
       "147   data/IEMOCAP_full_release/Session1/sentences/w...  \n",
       "16    data/IEMOCAP_full_release/Session1/sentences/w...  \n",
       "...                                                 ...  \n",
       "1120  data/IEMOCAP_full_release/Session5/sentences/w...  \n",
       "1121  data/IEMOCAP_full_release/Session5/sentences/w...  \n",
       "1122  data/IEMOCAP_full_release/Session5/sentences/w...  \n",
       "1123  data/IEMOCAP_full_release/Session5/sentences/w...  \n",
       "1124  data/IEMOCAP_full_release/Session5/sentences/w...  \n",
       "\n",
       "[1391 rows x 2 columns]"
      ]
     },
     "execution_count": 3,
     "metadata": {},
     "output_type": "execute_result"
    }
   ],
   "source": [
    "#import file description\n",
    "data = pd.read_pickle('../data/description.pkl')\n",
    "data = data[['name','wav_path']]\n",
    "data = data.sort_values(by='name')\n",
    "data"
   ]
  },
  {
   "cell_type": "code",
   "execution_count": 12,
   "id": "3e37a9a2",
   "metadata": {
    "ExecuteTime": {
     "end_time": "2021-11-18T12:09:15.192008Z",
     "start_time": "2021-11-18T12:09:14.440649Z"
    }
   },
   "outputs": [
    {
     "data": {
      "text/plain": [
       "(20, 330)"
      ]
     },
     "execution_count": 12,
     "metadata": {},
     "output_type": "execute_result"
    }
   ],
   "source": [
    "##try one data\n",
    "file_path = data['wav_path'][3]\n",
    "\n",
    "##default 44100\n",
    "y, sr = librosa.load('../'+file_path, sr=44100)\n",
    "y, sr\n",
    "librosa.feature.mfcc(y,).shape"
   ]
  },
  {
   "cell_type": "code",
   "execution_count": 11,
   "id": "c4821fb5",
   "metadata": {
    "ExecuteTime": {
     "end_time": "2021-11-18T12:08:44.753171Z",
     "start_time": "2021-11-18T12:08:44.550622Z"
    }
   },
   "outputs": [
    {
     "name": "stderr",
     "output_type": "stream",
     "text": [
      "/opt/conda/lib/python3.8/site-packages/librosa/core/audio.py:165: UserWarning: PySoundFile failed. Trying audioread instead.\n",
      "  warnings.warn(\"PySoundFile failed. Trying audioread instead.\")\n"
     ]
    },
    {
     "ename": "FileNotFoundError",
     "evalue": "[Errno 2] No such file or directory: 'data/IEMOCAP_full_release/Session1/sentences/wav/Ses01F_impro01/Ses01F_impro01_F000.wav'",
     "output_type": "error",
     "traceback": [
      "\u001b[0;31m---------------------------------------------------------------------------\u001b[0m",
      "\u001b[0;31mRuntimeError\u001b[0m                              Traceback (most recent call last)",
      "\u001b[0;32m/opt/conda/lib/python3.8/site-packages/librosa/core/audio.py\u001b[0m in \u001b[0;36mload\u001b[0;34m(path, sr, mono, offset, duration, dtype, res_type)\u001b[0m\n\u001b[1;32m    148\u001b[0m     \u001b[0;32mtry\u001b[0m\u001b[0;34m:\u001b[0m\u001b[0;34m\u001b[0m\u001b[0;34m\u001b[0m\u001b[0m\n\u001b[0;32m--> 149\u001b[0;31m         \u001b[0;32mwith\u001b[0m \u001b[0msf\u001b[0m\u001b[0;34m.\u001b[0m\u001b[0mSoundFile\u001b[0m\u001b[0;34m(\u001b[0m\u001b[0mpath\u001b[0m\u001b[0;34m)\u001b[0m \u001b[0;32mas\u001b[0m \u001b[0msf_desc\u001b[0m\u001b[0;34m:\u001b[0m\u001b[0;34m\u001b[0m\u001b[0;34m\u001b[0m\u001b[0m\n\u001b[0m\u001b[1;32m    150\u001b[0m             \u001b[0msr_native\u001b[0m \u001b[0;34m=\u001b[0m \u001b[0msf_desc\u001b[0m\u001b[0;34m.\u001b[0m\u001b[0msamplerate\u001b[0m\u001b[0;34m\u001b[0m\u001b[0;34m\u001b[0m\u001b[0m\n",
      "\u001b[0;32m/opt/conda/lib/python3.8/site-packages/soundfile.py\u001b[0m in \u001b[0;36m__init__\u001b[0;34m(self, file, mode, samplerate, channels, subtype, endian, format, closefd)\u001b[0m\n\u001b[1;32m    628\u001b[0m                                          format, subtype, endian)\n\u001b[0;32m--> 629\u001b[0;31m         \u001b[0mself\u001b[0m\u001b[0;34m.\u001b[0m\u001b[0m_file\u001b[0m \u001b[0;34m=\u001b[0m \u001b[0mself\u001b[0m\u001b[0;34m.\u001b[0m\u001b[0m_open\u001b[0m\u001b[0;34m(\u001b[0m\u001b[0mfile\u001b[0m\u001b[0;34m,\u001b[0m \u001b[0mmode_int\u001b[0m\u001b[0;34m,\u001b[0m \u001b[0mclosefd\u001b[0m\u001b[0;34m)\u001b[0m\u001b[0;34m\u001b[0m\u001b[0;34m\u001b[0m\u001b[0m\n\u001b[0m\u001b[1;32m    630\u001b[0m         \u001b[0;32mif\u001b[0m \u001b[0mset\u001b[0m\u001b[0;34m(\u001b[0m\u001b[0mmode\u001b[0m\u001b[0;34m)\u001b[0m\u001b[0;34m.\u001b[0m\u001b[0missuperset\u001b[0m\u001b[0;34m(\u001b[0m\u001b[0;34m'r+'\u001b[0m\u001b[0;34m)\u001b[0m \u001b[0;32mand\u001b[0m \u001b[0mself\u001b[0m\u001b[0;34m.\u001b[0m\u001b[0mseekable\u001b[0m\u001b[0;34m(\u001b[0m\u001b[0;34m)\u001b[0m\u001b[0;34m:\u001b[0m\u001b[0;34m\u001b[0m\u001b[0;34m\u001b[0m\u001b[0m\n",
      "\u001b[0;32m/opt/conda/lib/python3.8/site-packages/soundfile.py\u001b[0m in \u001b[0;36m_open\u001b[0;34m(self, file, mode_int, closefd)\u001b[0m\n\u001b[1;32m   1182\u001b[0m             \u001b[0;32mraise\u001b[0m \u001b[0mTypeError\u001b[0m\u001b[0;34m(\u001b[0m\u001b[0;34m\"Invalid file: {0!r}\"\u001b[0m\u001b[0;34m.\u001b[0m\u001b[0mformat\u001b[0m\u001b[0;34m(\u001b[0m\u001b[0mself\u001b[0m\u001b[0;34m.\u001b[0m\u001b[0mname\u001b[0m\u001b[0;34m)\u001b[0m\u001b[0;34m)\u001b[0m\u001b[0;34m\u001b[0m\u001b[0;34m\u001b[0m\u001b[0m\n\u001b[0;32m-> 1183\u001b[0;31m         _error_check(_snd.sf_error(file_ptr),\n\u001b[0m\u001b[1;32m   1184\u001b[0m                      \"Error opening {0!r}: \".format(self.name))\n",
      "\u001b[0;32m/opt/conda/lib/python3.8/site-packages/soundfile.py\u001b[0m in \u001b[0;36m_error_check\u001b[0;34m(err, prefix)\u001b[0m\n\u001b[1;32m   1356\u001b[0m         \u001b[0merr_str\u001b[0m \u001b[0;34m=\u001b[0m \u001b[0m_snd\u001b[0m\u001b[0;34m.\u001b[0m\u001b[0msf_error_number\u001b[0m\u001b[0;34m(\u001b[0m\u001b[0merr\u001b[0m\u001b[0;34m)\u001b[0m\u001b[0;34m\u001b[0m\u001b[0;34m\u001b[0m\u001b[0m\n\u001b[0;32m-> 1357\u001b[0;31m         \u001b[0;32mraise\u001b[0m \u001b[0mRuntimeError\u001b[0m\u001b[0;34m(\u001b[0m\u001b[0mprefix\u001b[0m \u001b[0;34m+\u001b[0m \u001b[0m_ffi\u001b[0m\u001b[0;34m.\u001b[0m\u001b[0mstring\u001b[0m\u001b[0;34m(\u001b[0m\u001b[0merr_str\u001b[0m\u001b[0;34m)\u001b[0m\u001b[0;34m.\u001b[0m\u001b[0mdecode\u001b[0m\u001b[0;34m(\u001b[0m\u001b[0;34m'utf-8'\u001b[0m\u001b[0;34m,\u001b[0m \u001b[0;34m'replace'\u001b[0m\u001b[0;34m)\u001b[0m\u001b[0;34m)\u001b[0m\u001b[0;34m\u001b[0m\u001b[0;34m\u001b[0m\u001b[0m\n\u001b[0m\u001b[1;32m   1358\u001b[0m \u001b[0;34m\u001b[0m\u001b[0m\n",
      "\u001b[0;31mRuntimeError\u001b[0m: Error opening 'data/IEMOCAP_full_release/Session1/sentences/wav/Ses01F_impro01/Ses01F_impro01_F000.wav': System error.",
      "\nDuring handling of the above exception, another exception occurred:\n",
      "\u001b[0;31mFileNotFoundError\u001b[0m                         Traceback (most recent call last)",
      "\u001b[0;32m<ipython-input-11-3a599bf82b72>\u001b[0m in \u001b[0;36m<module>\u001b[0;34m\u001b[0m\n\u001b[1;32m      1\u001b[0m \u001b[0;31m##run all\u001b[0m\u001b[0;34m\u001b[0m\u001b[0;34m\u001b[0m\u001b[0;34m\u001b[0m\u001b[0m\n\u001b[0;32m----> 2\u001b[0;31m \u001b[0mdata\u001b[0m\u001b[0;34m[\u001b[0m\u001b[0;34m'wav_vec'\u001b[0m\u001b[0;34m]\u001b[0m \u001b[0;34m=\u001b[0m \u001b[0mdata\u001b[0m\u001b[0;34m[\u001b[0m\u001b[0;34m'wav_path'\u001b[0m\u001b[0;34m]\u001b[0m\u001b[0;34m.\u001b[0m\u001b[0mapply\u001b[0m\u001b[0;34m(\u001b[0m\u001b[0;32mlambda\u001b[0m \u001b[0mx\u001b[0m\u001b[0;34m:\u001b[0m \u001b[0mlibrosa\u001b[0m\u001b[0;34m.\u001b[0m\u001b[0mload\u001b[0m\u001b[0;34m(\u001b[0m\u001b[0mx\u001b[0m\u001b[0;34m,\u001b[0m\u001b[0msr\u001b[0m\u001b[0;34m=\u001b[0m\u001b[0;36m3840\u001b[0m\u001b[0;34m)\u001b[0m\u001b[0;34m[\u001b[0m\u001b[0;36m0\u001b[0m\u001b[0;34m]\u001b[0m\u001b[0;34m)\u001b[0m\u001b[0;34m\u001b[0m\u001b[0;34m\u001b[0m\u001b[0m\n\u001b[0m",
      "\u001b[0;32m/opt/conda/lib/python3.8/site-packages/pandas/core/series.py\u001b[0m in \u001b[0;36mapply\u001b[0;34m(self, func, convert_dtype, args, **kwds)\u001b[0m\n\u001b[1;32m   4136\u001b[0m             \u001b[0;32melse\u001b[0m\u001b[0;34m:\u001b[0m\u001b[0;34m\u001b[0m\u001b[0;34m\u001b[0m\u001b[0m\n\u001b[1;32m   4137\u001b[0m                 \u001b[0mvalues\u001b[0m \u001b[0;34m=\u001b[0m \u001b[0mself\u001b[0m\u001b[0;34m.\u001b[0m\u001b[0mastype\u001b[0m\u001b[0;34m(\u001b[0m\u001b[0mobject\u001b[0m\u001b[0;34m)\u001b[0m\u001b[0;34m.\u001b[0m\u001b[0m_values\u001b[0m\u001b[0;34m\u001b[0m\u001b[0;34m\u001b[0m\u001b[0m\n\u001b[0;32m-> 4138\u001b[0;31m                 \u001b[0mmapped\u001b[0m \u001b[0;34m=\u001b[0m \u001b[0mlib\u001b[0m\u001b[0;34m.\u001b[0m\u001b[0mmap_infer\u001b[0m\u001b[0;34m(\u001b[0m\u001b[0mvalues\u001b[0m\u001b[0;34m,\u001b[0m \u001b[0mf\u001b[0m\u001b[0;34m,\u001b[0m \u001b[0mconvert\u001b[0m\u001b[0;34m=\u001b[0m\u001b[0mconvert_dtype\u001b[0m\u001b[0;34m)\u001b[0m\u001b[0;34m\u001b[0m\u001b[0;34m\u001b[0m\u001b[0m\n\u001b[0m\u001b[1;32m   4139\u001b[0m \u001b[0;34m\u001b[0m\u001b[0m\n\u001b[1;32m   4140\u001b[0m         \u001b[0;32mif\u001b[0m \u001b[0mlen\u001b[0m\u001b[0;34m(\u001b[0m\u001b[0mmapped\u001b[0m\u001b[0;34m)\u001b[0m \u001b[0;32mand\u001b[0m \u001b[0misinstance\u001b[0m\u001b[0;34m(\u001b[0m\u001b[0mmapped\u001b[0m\u001b[0;34m[\u001b[0m\u001b[0;36m0\u001b[0m\u001b[0;34m]\u001b[0m\u001b[0;34m,\u001b[0m \u001b[0mSeries\u001b[0m\u001b[0;34m)\u001b[0m\u001b[0;34m:\u001b[0m\u001b[0;34m\u001b[0m\u001b[0;34m\u001b[0m\u001b[0m\n",
      "\u001b[0;32mpandas/_libs/lib.pyx\u001b[0m in \u001b[0;36mpandas._libs.lib.map_infer\u001b[0;34m()\u001b[0m\n",
      "\u001b[0;32m<ipython-input-11-3a599bf82b72>\u001b[0m in \u001b[0;36m<lambda>\u001b[0;34m(x)\u001b[0m\n\u001b[1;32m      1\u001b[0m \u001b[0;31m##run all\u001b[0m\u001b[0;34m\u001b[0m\u001b[0;34m\u001b[0m\u001b[0;34m\u001b[0m\u001b[0m\n\u001b[0;32m----> 2\u001b[0;31m \u001b[0mdata\u001b[0m\u001b[0;34m[\u001b[0m\u001b[0;34m'wav_vec'\u001b[0m\u001b[0;34m]\u001b[0m \u001b[0;34m=\u001b[0m \u001b[0mdata\u001b[0m\u001b[0;34m[\u001b[0m\u001b[0;34m'wav_path'\u001b[0m\u001b[0;34m]\u001b[0m\u001b[0;34m.\u001b[0m\u001b[0mapply\u001b[0m\u001b[0;34m(\u001b[0m\u001b[0;32mlambda\u001b[0m \u001b[0mx\u001b[0m\u001b[0;34m:\u001b[0m \u001b[0mlibrosa\u001b[0m\u001b[0;34m.\u001b[0m\u001b[0mload\u001b[0m\u001b[0;34m(\u001b[0m\u001b[0mx\u001b[0m\u001b[0;34m,\u001b[0m\u001b[0msr\u001b[0m\u001b[0;34m=\u001b[0m\u001b[0;36m3840\u001b[0m\u001b[0;34m)\u001b[0m\u001b[0;34m[\u001b[0m\u001b[0;36m0\u001b[0m\u001b[0;34m]\u001b[0m\u001b[0;34m)\u001b[0m\u001b[0;34m\u001b[0m\u001b[0;34m\u001b[0m\u001b[0m\n\u001b[0m",
      "\u001b[0;32m/opt/conda/lib/python3.8/site-packages/librosa/core/audio.py\u001b[0m in \u001b[0;36mload\u001b[0;34m(path, sr, mono, offset, duration, dtype, res_type)\u001b[0m\n\u001b[1;32m    164\u001b[0m         \u001b[0;32mif\u001b[0m \u001b[0misinstance\u001b[0m\u001b[0;34m(\u001b[0m\u001b[0mpath\u001b[0m\u001b[0;34m,\u001b[0m \u001b[0;34m(\u001b[0m\u001b[0mstr\u001b[0m\u001b[0;34m,\u001b[0m \u001b[0mpathlib\u001b[0m\u001b[0;34m.\u001b[0m\u001b[0mPurePath\u001b[0m\u001b[0;34m)\u001b[0m\u001b[0;34m)\u001b[0m\u001b[0;34m:\u001b[0m\u001b[0;34m\u001b[0m\u001b[0;34m\u001b[0m\u001b[0m\n\u001b[1;32m    165\u001b[0m             \u001b[0mwarnings\u001b[0m\u001b[0;34m.\u001b[0m\u001b[0mwarn\u001b[0m\u001b[0;34m(\u001b[0m\u001b[0;34m\"PySoundFile failed. Trying audioread instead.\"\u001b[0m\u001b[0;34m)\u001b[0m\u001b[0;34m\u001b[0m\u001b[0;34m\u001b[0m\u001b[0m\n\u001b[0;32m--> 166\u001b[0;31m             \u001b[0my\u001b[0m\u001b[0;34m,\u001b[0m \u001b[0msr_native\u001b[0m \u001b[0;34m=\u001b[0m \u001b[0m__audioread_load\u001b[0m\u001b[0;34m(\u001b[0m\u001b[0mpath\u001b[0m\u001b[0;34m,\u001b[0m \u001b[0moffset\u001b[0m\u001b[0;34m,\u001b[0m \u001b[0mduration\u001b[0m\u001b[0;34m,\u001b[0m \u001b[0mdtype\u001b[0m\u001b[0;34m)\u001b[0m\u001b[0;34m\u001b[0m\u001b[0;34m\u001b[0m\u001b[0m\n\u001b[0m\u001b[1;32m    167\u001b[0m         \u001b[0;32melse\u001b[0m\u001b[0;34m:\u001b[0m\u001b[0;34m\u001b[0m\u001b[0;34m\u001b[0m\u001b[0m\n\u001b[1;32m    168\u001b[0m             \u001b[0;32mraise\u001b[0m \u001b[0;34m(\u001b[0m\u001b[0mexc\u001b[0m\u001b[0;34m)\u001b[0m\u001b[0;34m\u001b[0m\u001b[0;34m\u001b[0m\u001b[0m\n",
      "\u001b[0;32m/opt/conda/lib/python3.8/site-packages/librosa/core/audio.py\u001b[0m in \u001b[0;36m__audioread_load\u001b[0;34m(path, offset, duration, dtype)\u001b[0m\n\u001b[1;32m    188\u001b[0m \u001b[0;34m\u001b[0m\u001b[0m\n\u001b[1;32m    189\u001b[0m     \u001b[0my\u001b[0m \u001b[0;34m=\u001b[0m \u001b[0;34m[\u001b[0m\u001b[0;34m]\u001b[0m\u001b[0;34m\u001b[0m\u001b[0;34m\u001b[0m\u001b[0m\n\u001b[0;32m--> 190\u001b[0;31m     \u001b[0;32mwith\u001b[0m \u001b[0maudioread\u001b[0m\u001b[0;34m.\u001b[0m\u001b[0maudio_open\u001b[0m\u001b[0;34m(\u001b[0m\u001b[0mpath\u001b[0m\u001b[0;34m)\u001b[0m \u001b[0;32mas\u001b[0m \u001b[0minput_file\u001b[0m\u001b[0;34m:\u001b[0m\u001b[0;34m\u001b[0m\u001b[0;34m\u001b[0m\u001b[0m\n\u001b[0m\u001b[1;32m    191\u001b[0m         \u001b[0msr_native\u001b[0m \u001b[0;34m=\u001b[0m \u001b[0minput_file\u001b[0m\u001b[0;34m.\u001b[0m\u001b[0msamplerate\u001b[0m\u001b[0;34m\u001b[0m\u001b[0;34m\u001b[0m\u001b[0m\n\u001b[1;32m    192\u001b[0m         \u001b[0mn_channels\u001b[0m \u001b[0;34m=\u001b[0m \u001b[0minput_file\u001b[0m\u001b[0;34m.\u001b[0m\u001b[0mchannels\u001b[0m\u001b[0;34m\u001b[0m\u001b[0;34m\u001b[0m\u001b[0m\n",
      "\u001b[0;32m/opt/conda/lib/python3.8/site-packages/audioread/__init__.py\u001b[0m in \u001b[0;36maudio_open\u001b[0;34m(path, backends)\u001b[0m\n\u001b[1;32m    109\u001b[0m     \u001b[0;32mfor\u001b[0m \u001b[0mBackendClass\u001b[0m \u001b[0;32min\u001b[0m \u001b[0mbackends\u001b[0m\u001b[0;34m:\u001b[0m\u001b[0;34m\u001b[0m\u001b[0;34m\u001b[0m\u001b[0m\n\u001b[1;32m    110\u001b[0m         \u001b[0;32mtry\u001b[0m\u001b[0;34m:\u001b[0m\u001b[0;34m\u001b[0m\u001b[0;34m\u001b[0m\u001b[0m\n\u001b[0;32m--> 111\u001b[0;31m             \u001b[0;32mreturn\u001b[0m \u001b[0mBackendClass\u001b[0m\u001b[0;34m(\u001b[0m\u001b[0mpath\u001b[0m\u001b[0;34m)\u001b[0m\u001b[0;34m\u001b[0m\u001b[0;34m\u001b[0m\u001b[0m\n\u001b[0m\u001b[1;32m    112\u001b[0m         \u001b[0;32mexcept\u001b[0m \u001b[0mDecodeError\u001b[0m\u001b[0;34m:\u001b[0m\u001b[0;34m\u001b[0m\u001b[0;34m\u001b[0m\u001b[0m\n\u001b[1;32m    113\u001b[0m             \u001b[0;32mpass\u001b[0m\u001b[0;34m\u001b[0m\u001b[0;34m\u001b[0m\u001b[0m\n",
      "\u001b[0;32m/opt/conda/lib/python3.8/site-packages/audioread/rawread.py\u001b[0m in \u001b[0;36m__init__\u001b[0;34m(self, filename)\u001b[0m\n\u001b[1;32m     60\u001b[0m     \"\"\"\n\u001b[1;32m     61\u001b[0m     \u001b[0;32mdef\u001b[0m \u001b[0m__init__\u001b[0m\u001b[0;34m(\u001b[0m\u001b[0mself\u001b[0m\u001b[0;34m,\u001b[0m \u001b[0mfilename\u001b[0m\u001b[0;34m)\u001b[0m\u001b[0;34m:\u001b[0m\u001b[0;34m\u001b[0m\u001b[0;34m\u001b[0m\u001b[0m\n\u001b[0;32m---> 62\u001b[0;31m         \u001b[0mself\u001b[0m\u001b[0;34m.\u001b[0m\u001b[0m_fh\u001b[0m \u001b[0;34m=\u001b[0m \u001b[0mopen\u001b[0m\u001b[0;34m(\u001b[0m\u001b[0mfilename\u001b[0m\u001b[0;34m,\u001b[0m \u001b[0;34m'rb'\u001b[0m\u001b[0;34m)\u001b[0m\u001b[0;34m\u001b[0m\u001b[0;34m\u001b[0m\u001b[0m\n\u001b[0m\u001b[1;32m     63\u001b[0m \u001b[0;34m\u001b[0m\u001b[0m\n\u001b[1;32m     64\u001b[0m         \u001b[0;32mtry\u001b[0m\u001b[0;34m:\u001b[0m\u001b[0;34m\u001b[0m\u001b[0;34m\u001b[0m\u001b[0m\n",
      "\u001b[0;31mFileNotFoundError\u001b[0m: [Errno 2] No such file or directory: 'data/IEMOCAP_full_release/Session1/sentences/wav/Ses01F_impro01/Ses01F_impro01_F000.wav'"
     ]
    }
   ],
   "source": [
    "##run all\n",
    "data['wav_vec'] = data['wav_path'].apply(lambda x: librosa.load('../'+x,sr=3840)[0])"
   ]
  },
  {
   "cell_type": "code",
   "execution_count": null,
   "id": "6b2b78f8",
   "metadata": {},
   "outputs": [],
   "source": [
    "data['mfcc'] = data['wav_vec'].apply(lambda x: librosa.feature.mfcc(x))"
   ]
  },
  {
   "cell_type": "code",
   "execution_count": null,
   "id": "a7fb68ea",
   "metadata": {},
   "outputs": [],
   "source": []
  },
  {
   "cell_type": "code",
   "execution_count": null,
   "id": "b56b2cba",
   "metadata": {},
   "outputs": [],
   "source": [
    "data.to_pickle('../data/audio_vec.pkl')"
   ]
  },
  {
   "cell_type": "code",
   "execution_count": null,
   "id": "84c282ec",
   "metadata": {},
   "outputs": [],
   "source": [
    "###"
   ]
  },
  {
   "cell_type": "code",
   "execution_count": 4,
   "id": "6962282d",
   "metadata": {
    "ExecuteTime": {
     "end_time": "2021-11-18T12:26:09.169822Z",
     "start_time": "2021-11-18T12:26:08.994651Z"
    }
   },
   "outputs": [
    {
     "data": {
      "text/html": [
       "<div>\n",
       "<style scoped>\n",
       "    .dataframe tbody tr th:only-of-type {\n",
       "        vertical-align: middle;\n",
       "    }\n",
       "\n",
       "    .dataframe tbody tr th {\n",
       "        vertical-align: top;\n",
       "    }\n",
       "\n",
       "    .dataframe thead th {\n",
       "        text-align: right;\n",
       "    }\n",
       "</style>\n",
       "<table border=\"1\" class=\"dataframe\">\n",
       "  <thead>\n",
       "    <tr style=\"text-align: right;\">\n",
       "      <th></th>\n",
       "      <th>name</th>\n",
       "      <th>wav_path</th>\n",
       "      <th>wav_vec</th>\n",
       "      <th>mfcc</th>\n",
       "    </tr>\n",
       "  </thead>\n",
       "  <tbody>\n",
       "    <tr>\n",
       "      <th>144</th>\n",
       "      <td>Ses01F_impro01_F000</td>\n",
       "      <td>data/IEMOCAP_full_release/Session1/sentences/w...</td>\n",
       "      <td>[-0.0028926095, -0.0031089038, -0.00032413393,...</td>\n",
       "      <td>[[-369.46243, -371.0738, -387.509, -402.1697, ...</td>\n",
       "    </tr>\n",
       "    <tr>\n",
       "      <th>145</th>\n",
       "      <td>Ses01F_impro01_F001</td>\n",
       "      <td>data/IEMOCAP_full_release/Session1/sentences/w...</td>\n",
       "      <td>[-4.4501106e-05, -0.0015343546, -0.00027562078...</td>\n",
       "      <td>[[-407.10593, -406.58017, -408.41055, -377.438...</td>\n",
       "    </tr>\n",
       "    <tr>\n",
       "      <th>146</th>\n",
       "      <td>Ses01F_impro01_F002</td>\n",
       "      <td>data/IEMOCAP_full_release/Session1/sentences/w...</td>\n",
       "      <td>[5.2868247e-05, 0.0009967297, -0.00047307502, ...</td>\n",
       "      <td>[[-418.50763, -411.41168, -386.94864, -367.826...</td>\n",
       "    </tr>\n",
       "    <tr>\n",
       "      <th>147</th>\n",
       "      <td>Ses01F_impro01_F003</td>\n",
       "      <td>data/IEMOCAP_full_release/Session1/sentences/w...</td>\n",
       "      <td>[-0.003230595, -0.0032470254, 0.0011996051, -0...</td>\n",
       "      <td>[[-364.95422, -367.93515, -364.96695, -310.359...</td>\n",
       "    </tr>\n",
       "    <tr>\n",
       "      <th>16</th>\n",
       "      <td>Ses01F_impro02_F000</td>\n",
       "      <td>data/IEMOCAP_full_release/Session1/sentences/w...</td>\n",
       "      <td>[0.00048591124, 0.0018465443, -0.000330532, 0....</td>\n",
       "      <td>[[-392.83054, -392.49612, -396.9852, -392.7211...</td>\n",
       "    </tr>\n",
       "    <tr>\n",
       "      <th>...</th>\n",
       "      <td>...</td>\n",
       "      <td>...</td>\n",
       "      <td>...</td>\n",
       "      <td>...</td>\n",
       "    </tr>\n",
       "    <tr>\n",
       "      <th>1120</th>\n",
       "      <td>Ses05M_script03_2_F008</td>\n",
       "      <td>data/IEMOCAP_full_release/Session5/sentences/w...</td>\n",
       "      <td>[0.0003404794, 0.0015046577, 6.9393114e-05, -0...</td>\n",
       "      <td>[[-352.89743, -367.74246, -398.33636, -435.941...</td>\n",
       "    </tr>\n",
       "    <tr>\n",
       "      <th>1121</th>\n",
       "      <td>Ses05M_script03_2_F009</td>\n",
       "      <td>data/IEMOCAP_full_release/Session5/sentences/w...</td>\n",
       "      <td>[0.0015660601, 0.0035242962, 0.0030698536, 0.0...</td>\n",
       "      <td>[[-464.9473, -475.47983, -493.52167, -444.9105...</td>\n",
       "    </tr>\n",
       "    <tr>\n",
       "      <th>1122</th>\n",
       "      <td>Ses05M_script03_2_F010</td>\n",
       "      <td>data/IEMOCAP_full_release/Session5/sentences/w...</td>\n",
       "      <td>[0.00010546772, -0.00012898697, -0.0005582502,...</td>\n",
       "      <td>[[-494.797, -491.59225, -467.69525, -440.01843...</td>\n",
       "    </tr>\n",
       "    <tr>\n",
       "      <th>1123</th>\n",
       "      <td>Ses05M_script03_2_F011</td>\n",
       "      <td>data/IEMOCAP_full_release/Session5/sentences/w...</td>\n",
       "      <td>[0.00013771212, -0.00042985685, -0.00061626994...</td>\n",
       "      <td>[[-484.39847, -484.57697, -489.58444, -486.655...</td>\n",
       "    </tr>\n",
       "    <tr>\n",
       "      <th>1124</th>\n",
       "      <td>Ses05M_script03_2_F012</td>\n",
       "      <td>data/IEMOCAP_full_release/Session5/sentences/w...</td>\n",
       "      <td>[0.00034953776, 0.0005715119, -0.0003230856, -...</td>\n",
       "      <td>[[-493.60788, -489.12662, -488.4788, -490.4056...</td>\n",
       "    </tr>\n",
       "  </tbody>\n",
       "</table>\n",
       "<p>1391 rows × 4 columns</p>\n",
       "</div>"
      ],
      "text/plain": [
       "                        name  \\\n",
       "144      Ses01F_impro01_F000   \n",
       "145      Ses01F_impro01_F001   \n",
       "146      Ses01F_impro01_F002   \n",
       "147      Ses01F_impro01_F003   \n",
       "16       Ses01F_impro02_F000   \n",
       "...                      ...   \n",
       "1120  Ses05M_script03_2_F008   \n",
       "1121  Ses05M_script03_2_F009   \n",
       "1122  Ses05M_script03_2_F010   \n",
       "1123  Ses05M_script03_2_F011   \n",
       "1124  Ses05M_script03_2_F012   \n",
       "\n",
       "                                               wav_path  \\\n",
       "144   data/IEMOCAP_full_release/Session1/sentences/w...   \n",
       "145   data/IEMOCAP_full_release/Session1/sentences/w...   \n",
       "146   data/IEMOCAP_full_release/Session1/sentences/w...   \n",
       "147   data/IEMOCAP_full_release/Session1/sentences/w...   \n",
       "16    data/IEMOCAP_full_release/Session1/sentences/w...   \n",
       "...                                                 ...   \n",
       "1120  data/IEMOCAP_full_release/Session5/sentences/w...   \n",
       "1121  data/IEMOCAP_full_release/Session5/sentences/w...   \n",
       "1122  data/IEMOCAP_full_release/Session5/sentences/w...   \n",
       "1123  data/IEMOCAP_full_release/Session5/sentences/w...   \n",
       "1124  data/IEMOCAP_full_release/Session5/sentences/w...   \n",
       "\n",
       "                                                wav_vec  \\\n",
       "144   [-0.0028926095, -0.0031089038, -0.00032413393,...   \n",
       "145   [-4.4501106e-05, -0.0015343546, -0.00027562078...   \n",
       "146   [5.2868247e-05, 0.0009967297, -0.00047307502, ...   \n",
       "147   [-0.003230595, -0.0032470254, 0.0011996051, -0...   \n",
       "16    [0.00048591124, 0.0018465443, -0.000330532, 0....   \n",
       "...                                                 ...   \n",
       "1120  [0.0003404794, 0.0015046577, 6.9393114e-05, -0...   \n",
       "1121  [0.0015660601, 0.0035242962, 0.0030698536, 0.0...   \n",
       "1122  [0.00010546772, -0.00012898697, -0.0005582502,...   \n",
       "1123  [0.00013771212, -0.00042985685, -0.00061626994...   \n",
       "1124  [0.00034953776, 0.0005715119, -0.0003230856, -...   \n",
       "\n",
       "                                                   mfcc  \n",
       "144   [[-369.46243, -371.0738, -387.509, -402.1697, ...  \n",
       "145   [[-407.10593, -406.58017, -408.41055, -377.438...  \n",
       "146   [[-418.50763, -411.41168, -386.94864, -367.826...  \n",
       "147   [[-364.95422, -367.93515, -364.96695, -310.359...  \n",
       "16    [[-392.83054, -392.49612, -396.9852, -392.7211...  \n",
       "...                                                 ...  \n",
       "1120  [[-352.89743, -367.74246, -398.33636, -435.941...  \n",
       "1121  [[-464.9473, -475.47983, -493.52167, -444.9105...  \n",
       "1122  [[-494.797, -491.59225, -467.69525, -440.01843...  \n",
       "1123  [[-484.39847, -484.57697, -489.58444, -486.655...  \n",
       "1124  [[-493.60788, -489.12662, -488.4788, -490.4056...  \n",
       "\n",
       "[1391 rows x 4 columns]"
      ]
     },
     "execution_count": 4,
     "metadata": {},
     "output_type": "execute_result"
    }
   ],
   "source": [
    "data = pd.read_pickle('../data/audio_vec.pkl')\n",
    "\n",
    "data"
   ]
  },
  {
   "cell_type": "code",
   "execution_count": 10,
   "id": "22bb9a91",
   "metadata": {
    "ExecuteTime": {
     "end_time": "2021-11-18T12:28:15.852254Z",
     "start_time": "2021-11-18T12:28:15.817971Z"
    }
   },
   "outputs": [],
   "source": [
    "data['mfcc_tensor'] = data['mfcc'].map(lambda x: torch.tensor(x).permute(1,0))\n",
    "data['len'] = data['mfcc'].map(lambda x: x.shape[1])"
   ]
  },
  {
   "cell_type": "code",
   "execution_count": 14,
   "id": "ec178882",
   "metadata": {
    "ExecuteTime": {
     "end_time": "2021-11-18T12:28:30.795818Z",
     "start_time": "2021-11-18T12:28:30.786395Z"
    }
   },
   "outputs": [
    {
     "data": {
      "text/plain": [
       "144     15\n",
       "145     11\n",
       "146     24\n",
       "147     12\n",
       "16      70\n",
       "        ..\n",
       "1120    22\n",
       "1121    13\n",
       "1122    29\n",
       "1123    27\n",
       "1124    20\n",
       "Name: len, Length: 1391, dtype: int64"
      ]
     },
     "execution_count": 14,
     "metadata": {},
     "output_type": "execute_result"
    }
   ],
   "source": [
    "data['len']"
   ]
  },
  {
   "cell_type": "code",
   "execution_count": 11,
   "id": "e53511f5",
   "metadata": {
    "ExecuteTime": {
     "end_time": "2021-11-18T12:28:17.688371Z",
     "start_time": "2021-11-18T12:28:17.073936Z"
    }
   },
   "outputs": [
    {
     "data": {
      "text/plain": [
       "144     [[tensor(-369.4624), tensor(51.4046), tensor(-...\n",
       "145     [[tensor(-407.1059), tensor(74.1030), tensor(-...\n",
       "146     [[tensor(-418.5076), tensor(73.5019), tensor(-...\n",
       "147     [[tensor(-364.9542), tensor(58.9282), tensor(-...\n",
       "16      [[tensor(-392.8305), tensor(71.0489), tensor(-...\n",
       "                              ...                        \n",
       "1120    [[tensor(-352.8974), tensor(-13.2808), tensor(...\n",
       "1121    [[tensor(-464.9473), tensor(94.5610), tensor(-...\n",
       "1122    [[tensor(-494.7970), tensor(69.4444), tensor(-...\n",
       "1123    [[tensor(-484.3985), tensor(80.3053), tensor(-...\n",
       "1124    [[tensor(-493.6079), tensor(78.7973), tensor(-...\n",
       "Name: mfcc_tensor, Length: 1391, dtype: object"
      ]
     },
     "execution_count": 11,
     "metadata": {},
     "output_type": "execute_result"
    }
   ],
   "source": [
    "data['mfcc_tensor']"
   ]
  },
  {
   "cell_type": "code",
   "execution_count": 15,
   "id": "5fd8bb82",
   "metadata": {
    "ExecuteTime": {
     "end_time": "2021-11-18T12:28:34.349306Z",
     "start_time": "2021-11-18T12:28:34.160842Z"
    }
   },
   "outputs": [],
   "source": [
    "data.to_pickle('../data/audio_vec.pkl')"
   ]
  },
  {
   "cell_type": "code",
   "execution_count": null,
   "id": "4b9ff66f",
   "metadata": {},
   "outputs": [],
   "source": [
    "# mfcc에 0이 있는지 확인하기 위해 --> 없음\n",
    "zero_in = list(data['mfcc'].map(lambda x: 0 in x))\n",
    "\n",
    "True in zero_in"
   ]
  },
  {
   "cell_type": "code",
   "execution_count": null,
   "id": "7b125df8",
   "metadata": {},
   "outputs": [],
   "source": [
    "### test\n",
    "tmp = list(data['mfcc'].map(lambda x: 20*(x.shape[1])))\n",
    "print((sum(tmp)/len(tmp)))\n",
    "print(max(tmp))"
   ]
  },
  {
   "cell_type": "code",
   "execution_count": null,
   "id": "17f1827c",
   "metadata": {},
   "outputs": [],
   "source": [
    "### 최소, 최대 찾기!\n",
    "flag = False\n",
    "for i, l in enumerate(data['mfcc']):\n",
    "    print(i)\n",
    "    if not flag:\n",
    "        lst = np.array(l).flatten().tolist()\n",
    "        flag = True\n",
    "    else:\n",
    "        lst.extend(np.array(l).flatten().tolist())"
   ]
  },
  {
   "cell_type": "code",
   "execution_count": null,
   "id": "4797d4ce",
   "metadata": {},
   "outputs": [],
   "source": [
    "print(max(lst))\n",
    "print(min(lst))"
   ]
  },
  {
   "cell_type": "code",
   "execution_count": null,
   "id": "bbb942b1",
   "metadata": {},
   "outputs": [],
   "source": [
    "### mfcc 값이 1부터 시작하도록\n",
    "for i, lst in enumerate(data['mfcc']):\n",
    "    for l in lst:\n",
    "        l += 537.419921875"
   ]
  },
  {
   "cell_type": "code",
   "execution_count": null,
   "id": "e8a9330e",
   "metadata": {},
   "outputs": [],
   "source": [
    "data\n",
    "\n",
    "data.to_pickle('../data/audio_vec2.pkl')"
   ]
  }
 ],
 "metadata": {
  "kernelspec": {
   "display_name": "Python 3",
   "language": "python",
   "name": "python3"
  },
  "language_info": {
   "codemirror_mode": {
    "name": "ipython",
    "version": 3
   },
   "file_extension": ".py",
   "mimetype": "text/x-python",
   "name": "python",
   "nbconvert_exporter": "python",
   "pygments_lexer": "ipython3",
   "version": "3.8.10"
  },
  "toc": {
   "base_numbering": 1,
   "nav_menu": {},
   "number_sections": false,
   "sideBar": true,
   "skip_h1_title": false,
   "title_cell": "Table of Contents",
   "title_sidebar": "Contents",
   "toc_cell": false,
   "toc_position": {},
   "toc_section_display": true,
   "toc_window_display": false
  }
 },
 "nbformat": 4,
 "nbformat_minor": 5
}
