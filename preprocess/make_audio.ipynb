{
 "cells": [
  {
   "cell_type": "code",
   "execution_count": 1,
   "id": "fe52db25",
   "metadata": {
    "ExecuteTime": {
     "end_time": "2021-11-19T08:17:31.113826Z",
     "start_time": "2021-11-19T08:17:29.117029Z"
    }
   },
   "outputs": [],
   "source": [
    "import pandas as pd\n",
    "import librosa\n",
    "import pickle\n",
    "import numpy as np\n",
    "import torch"
   ]
  },
  {
   "cell_type": "code",
   "execution_count": 2,
   "id": "4a05ea3c",
   "metadata": {
    "ExecuteTime": {
     "end_time": "2021-11-19T08:17:31.637820Z",
     "start_time": "2021-11-19T08:17:31.593711Z"
    }
   },
   "outputs": [
    {
     "data": {
      "text/html": [
       "<div>\n",
       "<style scoped>\n",
       "    .dataframe tbody tr th:only-of-type {\n",
       "        vertical-align: middle;\n",
       "    }\n",
       "\n",
       "    .dataframe tbody tr th {\n",
       "        vertical-align: top;\n",
       "    }\n",
       "\n",
       "    .dataframe thead th {\n",
       "        text-align: right;\n",
       "    }\n",
       "</style>\n",
       "<table border=\"1\" class=\"dataframe\">\n",
       "  <thead>\n",
       "    <tr style=\"text-align: right;\">\n",
       "      <th></th>\n",
       "      <th>name</th>\n",
       "      <th>wav_path</th>\n",
       "    </tr>\n",
       "  </thead>\n",
       "  <tbody>\n",
       "    <tr>\n",
       "      <th>1111</th>\n",
       "      <td>Ses01F_impro01_F000</td>\n",
       "      <td>../data/IEMOCAP_full_release/Session1/sentence...</td>\n",
       "    </tr>\n",
       "    <tr>\n",
       "      <th>1113</th>\n",
       "      <td>Ses01F_impro01_F001</td>\n",
       "      <td>../data/IEMOCAP_full_release/Session1/sentence...</td>\n",
       "    </tr>\n",
       "    <tr>\n",
       "      <th>1115</th>\n",
       "      <td>Ses01F_impro01_F002</td>\n",
       "      <td>../data/IEMOCAP_full_release/Session1/sentence...</td>\n",
       "    </tr>\n",
       "    <tr>\n",
       "      <th>1117</th>\n",
       "      <td>Ses01F_impro01_F003</td>\n",
       "      <td>../data/IEMOCAP_full_release/Session1/sentence...</td>\n",
       "    </tr>\n",
       "    <tr>\n",
       "      <th>1118</th>\n",
       "      <td>Ses01F_impro01_F004</td>\n",
       "      <td>../data/IEMOCAP_full_release/Session1/sentence...</td>\n",
       "    </tr>\n",
       "    <tr>\n",
       "      <th>...</th>\n",
       "      <td>...</td>\n",
       "      <td>...</td>\n",
       "    </tr>\n",
       "    <tr>\n",
       "      <th>8190</th>\n",
       "      <td>Ses05M_script03_2_M041</td>\n",
       "      <td>../data/IEMOCAP_full_release/Session5/sentence...</td>\n",
       "    </tr>\n",
       "    <tr>\n",
       "      <th>8192</th>\n",
       "      <td>Ses05M_script03_2_M042</td>\n",
       "      <td>../data/IEMOCAP_full_release/Session5/sentence...</td>\n",
       "    </tr>\n",
       "    <tr>\n",
       "      <th>8194</th>\n",
       "      <td>Ses05M_script03_2_M043</td>\n",
       "      <td>../data/IEMOCAP_full_release/Session5/sentence...</td>\n",
       "    </tr>\n",
       "    <tr>\n",
       "      <th>8196</th>\n",
       "      <td>Ses05M_script03_2_M044</td>\n",
       "      <td>../data/IEMOCAP_full_release/Session5/sentence...</td>\n",
       "    </tr>\n",
       "    <tr>\n",
       "      <th>8198</th>\n",
       "      <td>Ses05M_script03_2_M045</td>\n",
       "      <td>../data/IEMOCAP_full_release/Session5/sentence...</td>\n",
       "    </tr>\n",
       "  </tbody>\n",
       "</table>\n",
       "<p>10039 rows × 2 columns</p>\n",
       "</div>"
      ],
      "text/plain": [
       "                        name  \\\n",
       "1111     Ses01F_impro01_F000   \n",
       "1113     Ses01F_impro01_F001   \n",
       "1115     Ses01F_impro01_F002   \n",
       "1117     Ses01F_impro01_F003   \n",
       "1118     Ses01F_impro01_F004   \n",
       "...                      ...   \n",
       "8190  Ses05M_script03_2_M041   \n",
       "8192  Ses05M_script03_2_M042   \n",
       "8194  Ses05M_script03_2_M043   \n",
       "8196  Ses05M_script03_2_M044   \n",
       "8198  Ses05M_script03_2_M045   \n",
       "\n",
       "                                               wav_path  \n",
       "1111  ../data/IEMOCAP_full_release/Session1/sentence...  \n",
       "1113  ../data/IEMOCAP_full_release/Session1/sentence...  \n",
       "1115  ../data/IEMOCAP_full_release/Session1/sentence...  \n",
       "1117  ../data/IEMOCAP_full_release/Session1/sentence...  \n",
       "1118  ../data/IEMOCAP_full_release/Session1/sentence...  \n",
       "...                                                 ...  \n",
       "8190  ../data/IEMOCAP_full_release/Session5/sentence...  \n",
       "8192  ../data/IEMOCAP_full_release/Session5/sentence...  \n",
       "8194  ../data/IEMOCAP_full_release/Session5/sentence...  \n",
       "8196  ../data/IEMOCAP_full_release/Session5/sentence...  \n",
       "8198  ../data/IEMOCAP_full_release/Session5/sentence...  \n",
       "\n",
       "[10039 rows x 2 columns]"
      ]
     },
     "execution_count": 2,
     "metadata": {},
     "output_type": "execute_result"
    }
   ],
   "source": [
    "#import file description\n",
    "data = pd.read_pickle('../data/description.pkl')\n",
    "data = data[['name','wav_path']]\n",
    "data = data.sort_values(by='name')\n",
    "data"
   ]
  },
  {
   "cell_type": "code",
   "execution_count": 6,
   "id": "3e37a9a2",
   "metadata": {
    "ExecuteTime": {
     "end_time": "2021-11-19T08:18:01.297914Z",
     "start_time": "2021-11-19T08:18:01.227959Z"
    }
   },
   "outputs": [
    {
     "data": {
      "text/plain": [
       "(20, 106)"
      ]
     },
     "execution_count": 6,
     "metadata": {},
     "output_type": "execute_result"
    }
   ],
   "source": [
    "##try one data\n",
    "file_path = data['wav_path'][3]\n",
    "##default 44100\n",
    "y, sr = librosa.load(file_path, sr=44100)\n",
    "y, sr\n",
    "librosa.feature.mfcc(y,).shape"
   ]
  },
  {
   "cell_type": "code",
   "execution_count": 7,
   "id": "c4821fb5",
   "metadata": {
    "ExecuteTime": {
     "end_time": "2021-11-19T08:28:16.027703Z",
     "start_time": "2021-11-19T08:18:55.969002Z"
    }
   },
   "outputs": [],
   "source": [
    "##run all\n",
    "data['wav_vec'] = data['wav_path'].apply(lambda x: librosa.load(x,sr=3840)[0])"
   ]
  },
  {
   "cell_type": "code",
   "execution_count": 8,
   "id": "6b2b78f8",
   "metadata": {
    "ExecuteTime": {
     "end_time": "2021-11-19T08:28:57.364465Z",
     "start_time": "2021-11-19T08:28:16.029985Z"
    }
   },
   "outputs": [],
   "source": [
    "data['mfcc'] = data['wav_vec'].apply(lambda x: librosa.feature.mfcc(x))"
   ]
  },
  {
   "cell_type": "code",
   "execution_count": 9,
   "id": "b56b2cba",
   "metadata": {
    "ExecuteTime": {
     "end_time": "2021-11-19T08:28:59.182315Z",
     "start_time": "2021-11-19T08:28:57.367085Z"
    }
   },
   "outputs": [],
   "source": [
    "data.to_pickle('../data/audio_vec.pkl')"
   ]
  },
  {
   "cell_type": "code",
   "execution_count": null,
   "id": "84c282ec",
   "metadata": {},
   "outputs": [],
   "source": [
    "###"
   ]
  },
  {
   "cell_type": "code",
   "execution_count": 13,
   "id": "6962282d",
   "metadata": {
    "ExecuteTime": {
     "end_time": "2021-11-19T08:31:41.818689Z",
     "start_time": "2021-11-19T08:31:39.442863Z"
    }
   },
   "outputs": [
    {
     "data": {
      "text/html": [
       "<div>\n",
       "<style scoped>\n",
       "    .dataframe tbody tr th:only-of-type {\n",
       "        vertical-align: middle;\n",
       "    }\n",
       "\n",
       "    .dataframe tbody tr th {\n",
       "        vertical-align: top;\n",
       "    }\n",
       "\n",
       "    .dataframe thead th {\n",
       "        text-align: right;\n",
       "    }\n",
       "</style>\n",
       "<table border=\"1\" class=\"dataframe\">\n",
       "  <thead>\n",
       "    <tr style=\"text-align: right;\">\n",
       "      <th></th>\n",
       "      <th>name</th>\n",
       "      <th>wav_path</th>\n",
       "      <th>wav_vec</th>\n",
       "      <th>mfcc</th>\n",
       "      <th>mfcc_tensor</th>\n",
       "      <th>len</th>\n",
       "    </tr>\n",
       "  </thead>\n",
       "  <tbody>\n",
       "    <tr>\n",
       "      <th>1111</th>\n",
       "      <td>Ses01F_impro01_F000</td>\n",
       "      <td>../data/IEMOCAP_full_release/Session1/sentence...</td>\n",
       "      <td>[-0.0028926095, -0.0031089038, -0.00032413393,...</td>\n",
       "      <td>[[-369.46243, -371.0738, -387.509, -402.1697, ...</td>\n",
       "      <td>[[tensor(-369.4624), tensor(51.4046), tensor(-...</td>\n",
       "      <td>15</td>\n",
       "    </tr>\n",
       "    <tr>\n",
       "      <th>1113</th>\n",
       "      <td>Ses01F_impro01_F001</td>\n",
       "      <td>../data/IEMOCAP_full_release/Session1/sentence...</td>\n",
       "      <td>[-4.4501106e-05, -0.0015343546, -0.00027562078...</td>\n",
       "      <td>[[-407.10593, -406.58017, -408.41055, -377.438...</td>\n",
       "      <td>[[tensor(-407.1059), tensor(74.1030), tensor(-...</td>\n",
       "      <td>11</td>\n",
       "    </tr>\n",
       "    <tr>\n",
       "      <th>1115</th>\n",
       "      <td>Ses01F_impro01_F002</td>\n",
       "      <td>../data/IEMOCAP_full_release/Session1/sentence...</td>\n",
       "      <td>[5.2868247e-05, 0.0009967297, -0.00047307502, ...</td>\n",
       "      <td>[[-418.50763, -411.41168, -386.94864, -367.826...</td>\n",
       "      <td>[[tensor(-418.5076), tensor(73.5019), tensor(-...</td>\n",
       "      <td>24</td>\n",
       "    </tr>\n",
       "    <tr>\n",
       "      <th>1117</th>\n",
       "      <td>Ses01F_impro01_F003</td>\n",
       "      <td>../data/IEMOCAP_full_release/Session1/sentence...</td>\n",
       "      <td>[-0.003230595, -0.0032470254, 0.0011996051, -0...</td>\n",
       "      <td>[[-364.95422, -367.93515, -364.96695, -310.359...</td>\n",
       "      <td>[[tensor(-364.9542), tensor(58.9282), tensor(-...</td>\n",
       "      <td>12</td>\n",
       "    </tr>\n",
       "    <tr>\n",
       "      <th>1118</th>\n",
       "      <td>Ses01F_impro01_F004</td>\n",
       "      <td>../data/IEMOCAP_full_release/Session1/sentence...</td>\n",
       "      <td>[0.0015638119, 0.0030702243, 0.0027055894, 0.0...</td>\n",
       "      <td>[[-396.49872, -394.24716, -395.42755, -397.203...</td>\n",
       "      <td>[[tensor(-396.4987), tensor(56.9485), tensor(-...</td>\n",
       "      <td>26</td>\n",
       "    </tr>\n",
       "    <tr>\n",
       "      <th>...</th>\n",
       "      <td>...</td>\n",
       "      <td>...</td>\n",
       "      <td>...</td>\n",
       "      <td>...</td>\n",
       "      <td>...</td>\n",
       "      <td>...</td>\n",
       "    </tr>\n",
       "    <tr>\n",
       "      <th>8190</th>\n",
       "      <td>Ses05M_script03_2_M041</td>\n",
       "      <td>../data/IEMOCAP_full_release/Session5/sentence...</td>\n",
       "      <td>[-0.0017033925, -0.0029533403, -0.002816058, -...</td>\n",
       "      <td>[[-442.83765, -440.47543, -419.49213, -309.967...</td>\n",
       "      <td>[[tensor(-442.8376), tensor(73.7019), tensor(-...</td>\n",
       "      <td>62</td>\n",
       "    </tr>\n",
       "    <tr>\n",
       "      <th>8192</th>\n",
       "      <td>Ses05M_script03_2_M042</td>\n",
       "      <td>../data/IEMOCAP_full_release/Session5/sentence...</td>\n",
       "      <td>[-0.0067384816, 0.0012129268, 0.0065154308, 0....</td>\n",
       "      <td>[[-327.0108, -277.2942, -193.70734, -119.39564...</td>\n",
       "      <td>[[tensor(-327.0108), tensor(-10.0813), tensor(...</td>\n",
       "      <td>14</td>\n",
       "    </tr>\n",
       "    <tr>\n",
       "      <th>8194</th>\n",
       "      <td>Ses05M_script03_2_M043</td>\n",
       "      <td>../data/IEMOCAP_full_release/Session5/sentence...</td>\n",
       "      <td>[0.004514321, 0.013757654, 0.022241613, 0.0269...</td>\n",
       "      <td>[[-55.859444, -47.903893, -88.44702, -132.7370...</td>\n",
       "      <td>[[tensor(-55.8594), tensor(-66.6151), tensor(-...</td>\n",
       "      <td>17</td>\n",
       "    </tr>\n",
       "    <tr>\n",
       "      <th>8196</th>\n",
       "      <td>Ses05M_script03_2_M044</td>\n",
       "      <td>../data/IEMOCAP_full_release/Session5/sentence...</td>\n",
       "      <td>[0.11174615, -0.14804262, -0.28937134, 0.45634...</td>\n",
       "      <td>[[-115.3692, -138.6212, -192.84505, -207.99359...</td>\n",
       "      <td>[[tensor(-115.3692), tensor(-99.6687), tensor(...</td>\n",
       "      <td>34</td>\n",
       "    </tr>\n",
       "    <tr>\n",
       "      <th>8198</th>\n",
       "      <td>Ses05M_script03_2_M045</td>\n",
       "      <td>../data/IEMOCAP_full_release/Session5/sentence...</td>\n",
       "      <td>[0.0021281731, -0.0025116906, -0.003959186, -0...</td>\n",
       "      <td>[[-146.83527, -48.169697, 5.6566925, -43.78460...</td>\n",
       "      <td>[[tensor(-146.8353), tensor(-61.5667), tensor(...</td>\n",
       "      <td>46</td>\n",
       "    </tr>\n",
       "  </tbody>\n",
       "</table>\n",
       "<p>10039 rows × 6 columns</p>\n",
       "</div>"
      ],
      "text/plain": [
       "                        name  \\\n",
       "1111     Ses01F_impro01_F000   \n",
       "1113     Ses01F_impro01_F001   \n",
       "1115     Ses01F_impro01_F002   \n",
       "1117     Ses01F_impro01_F003   \n",
       "1118     Ses01F_impro01_F004   \n",
       "...                      ...   \n",
       "8190  Ses05M_script03_2_M041   \n",
       "8192  Ses05M_script03_2_M042   \n",
       "8194  Ses05M_script03_2_M043   \n",
       "8196  Ses05M_script03_2_M044   \n",
       "8198  Ses05M_script03_2_M045   \n",
       "\n",
       "                                               wav_path  \\\n",
       "1111  ../data/IEMOCAP_full_release/Session1/sentence...   \n",
       "1113  ../data/IEMOCAP_full_release/Session1/sentence...   \n",
       "1115  ../data/IEMOCAP_full_release/Session1/sentence...   \n",
       "1117  ../data/IEMOCAP_full_release/Session1/sentence...   \n",
       "1118  ../data/IEMOCAP_full_release/Session1/sentence...   \n",
       "...                                                 ...   \n",
       "8190  ../data/IEMOCAP_full_release/Session5/sentence...   \n",
       "8192  ../data/IEMOCAP_full_release/Session5/sentence...   \n",
       "8194  ../data/IEMOCAP_full_release/Session5/sentence...   \n",
       "8196  ../data/IEMOCAP_full_release/Session5/sentence...   \n",
       "8198  ../data/IEMOCAP_full_release/Session5/sentence...   \n",
       "\n",
       "                                                wav_vec  \\\n",
       "1111  [-0.0028926095, -0.0031089038, -0.00032413393,...   \n",
       "1113  [-4.4501106e-05, -0.0015343546, -0.00027562078...   \n",
       "1115  [5.2868247e-05, 0.0009967297, -0.00047307502, ...   \n",
       "1117  [-0.003230595, -0.0032470254, 0.0011996051, -0...   \n",
       "1118  [0.0015638119, 0.0030702243, 0.0027055894, 0.0...   \n",
       "...                                                 ...   \n",
       "8190  [-0.0017033925, -0.0029533403, -0.002816058, -...   \n",
       "8192  [-0.0067384816, 0.0012129268, 0.0065154308, 0....   \n",
       "8194  [0.004514321, 0.013757654, 0.022241613, 0.0269...   \n",
       "8196  [0.11174615, -0.14804262, -0.28937134, 0.45634...   \n",
       "8198  [0.0021281731, -0.0025116906, -0.003959186, -0...   \n",
       "\n",
       "                                                   mfcc  \\\n",
       "1111  [[-369.46243, -371.0738, -387.509, -402.1697, ...   \n",
       "1113  [[-407.10593, -406.58017, -408.41055, -377.438...   \n",
       "1115  [[-418.50763, -411.41168, -386.94864, -367.826...   \n",
       "1117  [[-364.95422, -367.93515, -364.96695, -310.359...   \n",
       "1118  [[-396.49872, -394.24716, -395.42755, -397.203...   \n",
       "...                                                 ...   \n",
       "8190  [[-442.83765, -440.47543, -419.49213, -309.967...   \n",
       "8192  [[-327.0108, -277.2942, -193.70734, -119.39564...   \n",
       "8194  [[-55.859444, -47.903893, -88.44702, -132.7370...   \n",
       "8196  [[-115.3692, -138.6212, -192.84505, -207.99359...   \n",
       "8198  [[-146.83527, -48.169697, 5.6566925, -43.78460...   \n",
       "\n",
       "                                            mfcc_tensor  len  \n",
       "1111  [[tensor(-369.4624), tensor(51.4046), tensor(-...   15  \n",
       "1113  [[tensor(-407.1059), tensor(74.1030), tensor(-...   11  \n",
       "1115  [[tensor(-418.5076), tensor(73.5019), tensor(-...   24  \n",
       "1117  [[tensor(-364.9542), tensor(58.9282), tensor(-...   12  \n",
       "1118  [[tensor(-396.4987), tensor(56.9485), tensor(-...   26  \n",
       "...                                                 ...  ...  \n",
       "8190  [[tensor(-442.8376), tensor(73.7019), tensor(-...   62  \n",
       "8192  [[tensor(-327.0108), tensor(-10.0813), tensor(...   14  \n",
       "8194  [[tensor(-55.8594), tensor(-66.6151), tensor(-...   17  \n",
       "8196  [[tensor(-115.3692), tensor(-99.6687), tensor(...   34  \n",
       "8198  [[tensor(-146.8353), tensor(-61.5667), tensor(...   46  \n",
       "\n",
       "[10039 rows x 6 columns]"
      ]
     },
     "execution_count": 13,
     "metadata": {},
     "output_type": "execute_result"
    }
   ],
   "source": [
    "data = pd.read_pickle('../data/audio_vec.pkl')\n",
    "\n",
    "data"
   ]
  },
  {
   "cell_type": "code",
   "execution_count": 11,
   "id": "22bb9a91",
   "metadata": {
    "ExecuteTime": {
     "end_time": "2021-11-19T08:29:00.073596Z",
     "start_time": "2021-11-19T08:28:59.939810Z"
    }
   },
   "outputs": [],
   "source": [
    "data['mfcc_tensor'] = data['mfcc'].map(lambda x: torch.tensor(x).permute(1,0))\n",
    "data['len'] = data['mfcc'].map(lambda x: x.shape[1])"
   ]
  },
  {
   "cell_type": "code",
   "execution_count": 14,
   "id": "ec178882",
   "metadata": {
    "ExecuteTime": {
     "end_time": "2021-11-18T12:28:30.795818Z",
     "start_time": "2021-11-18T12:28:30.786395Z"
    }
   },
   "outputs": [
    {
     "data": {
      "text/plain": [
       "144     15\n",
       "145     11\n",
       "146     24\n",
       "147     12\n",
       "16      70\n",
       "        ..\n",
       "1120    22\n",
       "1121    13\n",
       "1122    29\n",
       "1123    27\n",
       "1124    20\n",
       "Name: len, Length: 1391, dtype: int64"
      ]
     },
     "execution_count": 14,
     "metadata": {},
     "output_type": "execute_result"
    }
   ],
   "source": [
    "data['len']"
   ]
  },
  {
   "cell_type": "code",
   "execution_count": 11,
   "id": "e53511f5",
   "metadata": {
    "ExecuteTime": {
     "end_time": "2021-11-18T12:28:17.688371Z",
     "start_time": "2021-11-18T12:28:17.073936Z"
    }
   },
   "outputs": [
    {
     "data": {
      "text/plain": [
       "144     [[tensor(-369.4624), tensor(51.4046), tensor(-...\n",
       "145     [[tensor(-407.1059), tensor(74.1030), tensor(-...\n",
       "146     [[tensor(-418.5076), tensor(73.5019), tensor(-...\n",
       "147     [[tensor(-364.9542), tensor(58.9282), tensor(-...\n",
       "16      [[tensor(-392.8305), tensor(71.0489), tensor(-...\n",
       "                              ...                        \n",
       "1120    [[tensor(-352.8974), tensor(-13.2808), tensor(...\n",
       "1121    [[tensor(-464.9473), tensor(94.5610), tensor(-...\n",
       "1122    [[tensor(-494.7970), tensor(69.4444), tensor(-...\n",
       "1123    [[tensor(-484.3985), tensor(80.3053), tensor(-...\n",
       "1124    [[tensor(-493.6079), tensor(78.7973), tensor(-...\n",
       "Name: mfcc_tensor, Length: 1391, dtype: object"
      ]
     },
     "execution_count": 11,
     "metadata": {},
     "output_type": "execute_result"
    }
   ],
   "source": [
    "data['mfcc_tensor']"
   ]
  },
  {
   "cell_type": "code",
   "execution_count": 12,
   "id": "5fd8bb82",
   "metadata": {
    "ExecuteTime": {
     "end_time": "2021-11-19T08:29:02.661995Z",
     "start_time": "2021-11-19T08:29:00.075700Z"
    }
   },
   "outputs": [],
   "source": [
    "data.to_pickle('../data/audio_vec.pkl')"
   ]
  },
  {
   "cell_type": "code",
   "execution_count": 16,
   "id": "3b439f06",
   "metadata": {
    "ExecuteTime": {
     "end_time": "2021-11-19T08:32:32.175656Z",
     "start_time": "2021-11-19T08:32:32.164051Z"
    }
   },
   "outputs": [
    {
     "name": "stdout",
     "output_type": "stream",
     "text": [
      "257\n",
      "5\n"
     ]
    }
   ],
   "source": [
    "print(max(data['len']))\n",
    "print(min(data['len']))"
   ]
  },
  {
   "cell_type": "code",
   "execution_count": null,
   "id": "4ece65bc",
   "metadata": {},
   "outputs": [],
   "source": []
  }
 ],
 "metadata": {
  "kernelspec": {
   "display_name": "Python 3",
   "language": "python",
   "name": "python3"
  },
  "language_info": {
   "codemirror_mode": {
    "name": "ipython",
    "version": 3
   },
   "file_extension": ".py",
   "mimetype": "text/x-python",
   "name": "python",
   "nbconvert_exporter": "python",
   "pygments_lexer": "ipython3",
   "version": "3.8.10"
  },
  "toc": {
   "base_numbering": 1,
   "nav_menu": {},
   "number_sections": false,
   "sideBar": true,
   "skip_h1_title": false,
   "title_cell": "Table of Contents",
   "title_sidebar": "Contents",
   "toc_cell": false,
   "toc_position": {},
   "toc_section_display": true,
   "toc_window_display": false
  }
 },
 "nbformat": 4,
 "nbformat_minor": 5
}
