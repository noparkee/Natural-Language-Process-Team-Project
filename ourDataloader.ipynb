{
 "cells": [
  {
   "cell_type": "code",
   "execution_count": 2,
   "id": "d5abba26",
   "metadata": {
    "ExecuteTime": {
     "end_time": "2021-11-18T10:16:08.568227Z",
     "start_time": "2021-11-18T10:16:08.564319Z"
    }
   },
   "outputs": [],
   "source": [
    "###Reference:\n",
    "#https://honeyjamtech.tistory.com/68\n",
    "#https://tutorials.pytorch.kr/beginner/basics/data_tutorial.html\n",
    "#https://wikidocs.net/57165\n",
    "#https://m.blog.naver.com/PostView.naver?isHttpsRedirect=true&blogId=sooftware&logNo=221646956569&proxyReferer="
   ]
  },
  {
   "cell_type": "code",
   "execution_count": 3,
   "id": "a49e8d24",
   "metadata": {
    "ExecuteTime": {
     "end_time": "2021-11-18T10:16:09.665490Z",
     "start_time": "2021-11-18T10:16:08.768075Z"
    }
   },
   "outputs": [],
   "source": [
    "import torch\n",
    "import torch.nn.functional as F\n",
    "import pandas as pd"
   ]
  },
  {
   "cell_type": "code",
   "execution_count": 4,
   "id": "ac80874e",
   "metadata": {
    "ExecuteTime": {
     "end_time": "2021-11-18T10:16:09.670543Z",
     "start_time": "2021-11-18T10:16:09.667814Z"
    }
   },
   "outputs": [],
   "source": [
    "from torch.utils.data import Dataset, DataLoader"
   ]
  },
  {
   "cell_type": "code",
   "execution_count": 27,
   "id": "56c33335",
   "metadata": {
    "ExecuteTime": {
     "end_time": "2021-11-12T07:01:14.628501Z",
     "start_time": "2021-11-12T07:01:14.624175Z"
    }
   },
   "outputs": [],
   "source": [
    "import glob\n",
    "from PIL import Image"
   ]
  },
  {
   "cell_type": "code",
   "execution_count": 5,
   "id": "ca494080",
   "metadata": {
    "ExecuteTime": {
     "end_time": "2021-11-18T10:16:20.217516Z",
     "start_time": "2021-11-18T10:16:20.156090Z"
    }
   },
   "outputs": [
    {
     "ename": "NameError",
     "evalue": "name 'audio' is not defined",
     "output_type": "error",
     "traceback": [
      "\u001b[0;31m---------------------------------------------------------------------------\u001b[0m",
      "\u001b[0;31mNameError\u001b[0m                                 Traceback (most recent call last)",
      "\u001b[0;32m<ipython-input-5-d2d841b7f1f3>\u001b[0m in \u001b[0;36m<module>\u001b[0;34m\u001b[0m\n\u001b[0;32m----> 1\u001b[0;31m \u001b[0maudio\u001b[0m\u001b[0;34m\u001b[0m\u001b[0;34m\u001b[0m\u001b[0m\n\u001b[0m",
      "\u001b[0;31mNameError\u001b[0m: name 'audio' is not defined"
     ]
    }
   ],
   "source": [
    "audio"
   ]
  },
  {
   "cell_type": "code",
   "execution_count": 6,
   "id": "9cc56d7c",
   "metadata": {
    "ExecuteTime": {
     "end_time": "2021-11-18T10:16:23.933314Z",
     "start_time": "2021-11-18T10:16:23.895877Z"
    },
    "scrolled": true
   },
   "outputs": [
    {
     "data": {
      "text/html": [
       "<div>\n",
       "<style scoped>\n",
       "    .dataframe tbody tr th:only-of-type {\n",
       "        vertical-align: middle;\n",
       "    }\n",
       "\n",
       "    .dataframe tbody tr th {\n",
       "        vertical-align: top;\n",
       "    }\n",
       "\n",
       "    .dataframe thead th {\n",
       "        text-align: right;\n",
       "    }\n",
       "</style>\n",
       "<table border=\"1\" class=\"dataframe\">\n",
       "  <thead>\n",
       "    <tr style=\"text-align: right;\">\n",
       "      <th></th>\n",
       "      <th>name</th>\n",
       "      <th>wav_path</th>\n",
       "      <th>sentence</th>\n",
       "      <th>label</th>\n",
       "      <th>v</th>\n",
       "      <th>a</th>\n",
       "      <th>d</th>\n",
       "    </tr>\n",
       "  </thead>\n",
       "  <tbody>\n",
       "    <tr>\n",
       "      <th>144</th>\n",
       "      <td>Ses01F_impro01_F000</td>\n",
       "      <td>data/IEMOCAP_full_release/Session1/sentences/w...</td>\n",
       "      <td>Excuse me.</td>\n",
       "      <td>neu</td>\n",
       "      <td>2.5000</td>\n",
       "      <td>2.5000</td>\n",
       "      <td>2.5000</td>\n",
       "    </tr>\n",
       "    <tr>\n",
       "      <th>145</th>\n",
       "      <td>Ses01F_impro01_F001</td>\n",
       "      <td>data/IEMOCAP_full_release/Session1/sentences/w...</td>\n",
       "      <td>Yeah.</td>\n",
       "      <td>neu</td>\n",
       "      <td>2.5000</td>\n",
       "      <td>2.5000</td>\n",
       "      <td>2.5000</td>\n",
       "    </tr>\n",
       "    <tr>\n",
       "      <th>146</th>\n",
       "      <td>Ses01F_impro01_F002</td>\n",
       "      <td>data/IEMOCAP_full_release/Session1/sentences/w...</td>\n",
       "      <td>Is there a problem?</td>\n",
       "      <td>neu</td>\n",
       "      <td>2.5000</td>\n",
       "      <td>2.5000</td>\n",
       "      <td>2.5000</td>\n",
       "    </tr>\n",
       "    <tr>\n",
       "      <th>147</th>\n",
       "      <td>Ses01F_impro01_F003</td>\n",
       "      <td>data/IEMOCAP_full_release/Session1/sentences/w...</td>\n",
       "      <td>You did.</td>\n",
       "      <td>xxx</td>\n",
       "      <td>2.5000</td>\n",
       "      <td>3.0000</td>\n",
       "      <td>3.0000</td>\n",
       "    </tr>\n",
       "    <tr>\n",
       "      <th>16</th>\n",
       "      <td>Ses01F_impro02_F000</td>\n",
       "      <td>data/IEMOCAP_full_release/Session1/sentences/w...</td>\n",
       "      <td>Did you get the mail? So you saw my letter?</td>\n",
       "      <td>sad</td>\n",
       "      <td>2.5000</td>\n",
       "      <td>2.0000</td>\n",
       "      <td>1.5000</td>\n",
       "    </tr>\n",
       "    <tr>\n",
       "      <th>...</th>\n",
       "      <td>...</td>\n",
       "      <td>...</td>\n",
       "      <td>...</td>\n",
       "      <td>...</td>\n",
       "      <td>...</td>\n",
       "      <td>...</td>\n",
       "      <td>...</td>\n",
       "    </tr>\n",
       "    <tr>\n",
       "      <th>1120</th>\n",
       "      <td>Ses05M_script03_2_F008</td>\n",
       "      <td>data/IEMOCAP_full_release/Session5/sentences/w...</td>\n",
       "      <td>I'm getting very bored with this conversation.</td>\n",
       "      <td>fru</td>\n",
       "      <td>2.0000</td>\n",
       "      <td>2.5000</td>\n",
       "      <td>3.0000</td>\n",
       "    </tr>\n",
       "    <tr>\n",
       "      <th>1121</th>\n",
       "      <td>Ses05M_script03_2_F009</td>\n",
       "      <td>data/IEMOCAP_full_release/Session5/sentences/w...</td>\n",
       "      <td>No thanks.</td>\n",
       "      <td>neu</td>\n",
       "      <td>3.0000</td>\n",
       "      <td>2.0000</td>\n",
       "      <td>2.5000</td>\n",
       "    </tr>\n",
       "    <tr>\n",
       "      <th>1122</th>\n",
       "      <td>Ses05M_script03_2_F010</td>\n",
       "      <td>data/IEMOCAP_full_release/Session5/sentences/w...</td>\n",
       "      <td>I don't see why you want it; you've already ha...</td>\n",
       "      <td>xxx</td>\n",
       "      <td>2.0000</td>\n",
       "      <td>2.0000</td>\n",
       "      <td>3.5000</td>\n",
       "    </tr>\n",
       "    <tr>\n",
       "      <th>1123</th>\n",
       "      <td>Ses05M_script03_2_F011</td>\n",
       "      <td>data/IEMOCAP_full_release/Session5/sentences/w...</td>\n",
       "      <td>Well, it seems silly to go on and on with such...</td>\n",
       "      <td>xxx</td>\n",
       "      <td>2.5000</td>\n",
       "      <td>2.5000</td>\n",
       "      <td>3.0000</td>\n",
       "    </tr>\n",
       "    <tr>\n",
       "      <th>1124</th>\n",
       "      <td>Ses05M_script03_2_F012</td>\n",
       "      <td>data/IEMOCAP_full_release/Session5/sentences/w...</td>\n",
       "      <td>It's becoming a habit with you.</td>\n",
       "      <td>neu</td>\n",
       "      <td>2.5000</td>\n",
       "      <td>2.0000</td>\n",
       "      <td>3.0000</td>\n",
       "    </tr>\n",
       "  </tbody>\n",
       "</table>\n",
       "<p>1391 rows × 7 columns</p>\n",
       "</div>"
      ],
      "text/plain": [
       "                        name  \\\n",
       "144      Ses01F_impro01_F000   \n",
       "145      Ses01F_impro01_F001   \n",
       "146      Ses01F_impro01_F002   \n",
       "147      Ses01F_impro01_F003   \n",
       "16       Ses01F_impro02_F000   \n",
       "...                      ...   \n",
       "1120  Ses05M_script03_2_F008   \n",
       "1121  Ses05M_script03_2_F009   \n",
       "1122  Ses05M_script03_2_F010   \n",
       "1123  Ses05M_script03_2_F011   \n",
       "1124  Ses05M_script03_2_F012   \n",
       "\n",
       "                                               wav_path  \\\n",
       "144   data/IEMOCAP_full_release/Session1/sentences/w...   \n",
       "145   data/IEMOCAP_full_release/Session1/sentences/w...   \n",
       "146   data/IEMOCAP_full_release/Session1/sentences/w...   \n",
       "147   data/IEMOCAP_full_release/Session1/sentences/w...   \n",
       "16    data/IEMOCAP_full_release/Session1/sentences/w...   \n",
       "...                                                 ...   \n",
       "1120  data/IEMOCAP_full_release/Session5/sentences/w...   \n",
       "1121  data/IEMOCAP_full_release/Session5/sentences/w...   \n",
       "1122  data/IEMOCAP_full_release/Session5/sentences/w...   \n",
       "1123  data/IEMOCAP_full_release/Session5/sentences/w...   \n",
       "1124  data/IEMOCAP_full_release/Session5/sentences/w...   \n",
       "\n",
       "                                               sentence label       v       a  \\\n",
       "144                                          Excuse me.   neu  2.5000  2.5000   \n",
       "145                                               Yeah.   neu  2.5000  2.5000   \n",
       "146                                 Is there a problem?   neu  2.5000  2.5000   \n",
       "147                                            You did.   xxx  2.5000  3.0000   \n",
       "16          Did you get the mail? So you saw my letter?   sad  2.5000  2.0000   \n",
       "...                                                 ...   ...     ...     ...   \n",
       "1120     I'm getting very bored with this conversation.   fru  2.0000  2.5000   \n",
       "1121                                         No thanks.   neu  3.0000  2.0000   \n",
       "1122  I don't see why you want it; you've already ha...   xxx  2.0000  2.0000   \n",
       "1123  Well, it seems silly to go on and on with such...   xxx  2.5000  2.5000   \n",
       "1124                    It's becoming a habit with you.   neu  2.5000  2.0000   \n",
       "\n",
       "           d  \n",
       "144   2.5000  \n",
       "145   2.5000  \n",
       "146   2.5000  \n",
       "147   3.0000  \n",
       "16    1.5000  \n",
       "...      ...  \n",
       "1120  3.0000  \n",
       "1121  2.5000  \n",
       "1122  3.5000  \n",
       "1123  3.0000  \n",
       "1124  3.0000  \n",
       "\n",
       "[1391 rows x 7 columns]"
      ]
     },
     "execution_count": 6,
     "metadata": {},
     "output_type": "execute_result"
    }
   ],
   "source": [
    "word = pd.read_pickle('data/description.pkl')\n",
    "word = word.sort_values(by='name')\n",
    "word"
   ]
  },
  {
   "cell_type": "code",
   "execution_count": 47,
   "id": "b8c125cc",
   "metadata": {
    "ExecuteTime": {
     "end_time": "2021-11-16T12:55:45.559841Z",
     "start_time": "2021-11-16T12:55:45.541600Z"
    }
   },
   "outputs": [],
   "source": [
    "### Dataset 상속\n",
    "class ourDataset(Dataset): \n",
    "  def __init__(self, train=True):\n",
    "    label_list = [0,1,2,3,4]\n",
    "    self.train = train\n",
    "    num_data=1391\n",
    "    num_train=1251\n",
    "    num_test=140\n",
    "    \n",
    "    \n",
    "    ##data set 경로(루트경로)\n",
    "    self.data_path = '../data'\n",
    "    \n",
    "    audio = pd.read_pickle(self.data_path + '/audio_vec.pkl')\n",
    "    word = pd.read_pickle(self.data_path + '/description.pkl')\n",
    "    \n",
    "    ##true y's\n",
    "    self.sentence = word['sentence']\n",
    "    self.label = word['label']\n",
    "    \n",
    "    \n",
    "    ##audio feature\n",
    "    self.mfcc = audio['mfcc']\n",
    "    \n",
    "    \n",
    "    ##v,a,d\n",
    "    self.v = word['v']\n",
    "    self.a = word['a']\n",
    "    self.d = word['d']\n",
    "    \n",
    "    \n",
    "    \n",
    "    if self.train == True:\n",
    "        self.train_data = []\n",
    "        self.train_label = []\n",
    "        \n",
    "        print(\"\\n\\n==== Train Data:\")\n",
    "        for item in label_list:\n",
    "            print(\"===\", end=\"\")\n",
    "            for i in range(1, num_train+1):\n",
    "                path = \n",
    "    \n",
    "    \n",
    "    \n",
    "    \n",
    "    \n",
    "    ##train set 경로\n",
    "    if train:\n",
    "        self.train_path = path + '/train'\n",
    "    ##test set 경로\n",
    "    else:\n",
    "        self.test_path = path + '/test'\n",
    "    \n",
    "    ##일치하는 모든 경로명 찾기\n",
    "    self.path_list = glob.glob(self.path + '/*.png')\n",
    "    \n",
    "    self.class_labels = {}\n",
    "    self.num_classes = len\n",
    "    \n",
    "    self.image_list = []\n",
    "    for path in self.path_list:\n",
    "        self.image_list.append(Image.open(path))\n",
    "        \n",
    "    self.class_list = [0] * len(self.cat_img_list) + [1] * len(self.dog_img_list)\n",
    "    \n",
    "    \n",
    "    \n",
    "    self.x_data = [[73, 80, 75],\n",
    "                   [93, 88, 93],\n",
    "                   [89, 91, 90],\n",
    "                   [96, 98, 100],\n",
    "                   [73, 66, 70]]\n",
    "    self.y_data = [[152], [185], [180], [196], [142]]\n",
    "\n",
    "  # 총 데이터의 개수를 리턴\n",
    "  def __len__(self):\n",
    "    if self.train:\n",
    "        return len(self.train_data)\n",
    "    else:\n",
    "        return len(self.test_data)\n",
    "    \n",
    "\n",
    "  # 인덱스를 입력받아 그에 맵핑되는 입출력 데이터를 파이토치의 Tensor 형태로 리턴\n",
    "  def __getitem__(self, index): \n",
    "    if self.train:\n",
    "        return self.train_data[index], self.train_label[index]\n",
    "    else:\n",
    "        return self.test_data[index], self.test_label[index]\n",
    "    \n",
    "    \n",
    "    #x = torch.FloatTensor(self.x_data[index])\n",
    "    #y = torch.FloatTensor(self.y_data[index])\n",
    "    \n",
    "    #sentence = self.sentence[index]\n",
    "    #audio_embed = self.mfcc[index]\n",
    "    #label = self.label[index]\n",
    "    \n",
    "    return sentence, audio_embed, label"
   ]
  },
  {
   "cell_type": "code",
   "execution_count": null,
   "id": "aa6ce7dd",
   "metadata": {},
   "outputs": [],
   "source": []
  },
  {
   "cell_type": "code",
   "execution_count": 48,
   "id": "c91acdad",
   "metadata": {
    "ExecuteTime": {
     "end_time": "2021-11-16T12:55:48.485357Z",
     "start_time": "2021-11-16T12:55:48.458005Z"
    }
   },
   "outputs": [
    {
     "ename": "FileNotFoundError",
     "evalue": "[Errno 2] No such file or directory: '../data/audio_vec.pkl'",
     "output_type": "error",
     "traceback": [
      "\u001b[0;31m---------------------------------------------------------------------------\u001b[0m",
      "\u001b[0;31mFileNotFoundError\u001b[0m                         Traceback (most recent call last)",
      "\u001b[0;32m<ipython-input-48-813517f72a2a>\u001b[0m in \u001b[0;36m<module>\u001b[0;34m\u001b[0m\n\u001b[0;32m----> 1\u001b[0;31m \u001b[0mdataset\u001b[0m \u001b[0;34m=\u001b[0m \u001b[0mCustomDataset\u001b[0m\u001b[0;34m(\u001b[0m\u001b[0;34m)\u001b[0m\u001b[0;34m\u001b[0m\u001b[0;34m\u001b[0m\u001b[0m\n\u001b[0m\u001b[1;32m      2\u001b[0m \u001b[0mtypeof\u001b[0m\u001b[0;34m(\u001b[0m\u001b[0mdataset\u001b[0m\u001b[0;34m.\u001b[0m\u001b[0maudio\u001b[0m\u001b[0;34m.\u001b[0m\u001b[0membed\u001b[0m\u001b[0;34m)\u001b[0m\u001b[0;34m\u001b[0m\u001b[0;34m\u001b[0m\u001b[0m\n\u001b[1;32m      3\u001b[0m \u001b[0;34m\u001b[0m\u001b[0m\n\u001b[1;32m      4\u001b[0m \u001b[0;31m#dataset_train, dataset_test = torch.split(dataset, ~~~) # TODO\u001b[0m\u001b[0;34m\u001b[0m\u001b[0;34m\u001b[0m\u001b[0;34m\u001b[0m\u001b[0m\n\u001b[1;32m      5\u001b[0m \u001b[0;34m\u001b[0m\u001b[0m\n",
      "\u001b[0;32m<ipython-input-47-ce55d56e371f>\u001b[0m in \u001b[0;36m__init__\u001b[0;34m(self, train, transform)\u001b[0m\n\u001b[1;32m      5\u001b[0m     \u001b[0mself\u001b[0m\u001b[0;34m.\u001b[0m\u001b[0mdata_path\u001b[0m \u001b[0;34m=\u001b[0m \u001b[0;34m'../data'\u001b[0m\u001b[0;34m\u001b[0m\u001b[0;34m\u001b[0m\u001b[0m\n\u001b[1;32m      6\u001b[0m \u001b[0;34m\u001b[0m\u001b[0m\n\u001b[0;32m----> 7\u001b[0;31m     \u001b[0maudio\u001b[0m \u001b[0;34m=\u001b[0m \u001b[0mpd\u001b[0m\u001b[0;34m.\u001b[0m\u001b[0mread_pickle\u001b[0m\u001b[0;34m(\u001b[0m\u001b[0mself\u001b[0m\u001b[0;34m.\u001b[0m\u001b[0mdata_path\u001b[0m \u001b[0;34m+\u001b[0m \u001b[0;34m'/audio_vec.pkl'\u001b[0m\u001b[0;34m)\u001b[0m\u001b[0;34m\u001b[0m\u001b[0;34m\u001b[0m\u001b[0m\n\u001b[0m\u001b[1;32m      8\u001b[0m     \u001b[0mword\u001b[0m \u001b[0;34m=\u001b[0m \u001b[0mpd\u001b[0m\u001b[0;34m.\u001b[0m\u001b[0mread_pickle\u001b[0m\u001b[0;34m(\u001b[0m\u001b[0mself\u001b[0m\u001b[0;34m.\u001b[0m\u001b[0mdata_path\u001b[0m \u001b[0;34m+\u001b[0m \u001b[0;34m'/description.pkl'\u001b[0m\u001b[0;34m)\u001b[0m\u001b[0;34m\u001b[0m\u001b[0;34m\u001b[0m\u001b[0m\n\u001b[1;32m      9\u001b[0m \u001b[0;34m\u001b[0m\u001b[0m\n",
      "\u001b[0;32m/opt/conda/lib/python3.8/site-packages/pandas/io/pickle.py\u001b[0m in \u001b[0;36mread_pickle\u001b[0;34m(filepath_or_buffer, compression, storage_options)\u001b[0m\n\u001b[1;32m    183\u001b[0m     \"\"\"\n\u001b[1;32m    184\u001b[0m     \u001b[0mexcs_to_catch\u001b[0m \u001b[0;34m=\u001b[0m \u001b[0;34m(\u001b[0m\u001b[0mAttributeError\u001b[0m\u001b[0;34m,\u001b[0m \u001b[0mImportError\u001b[0m\u001b[0;34m,\u001b[0m \u001b[0mModuleNotFoundError\u001b[0m\u001b[0;34m,\u001b[0m \u001b[0mTypeError\u001b[0m\u001b[0;34m)\u001b[0m\u001b[0;34m\u001b[0m\u001b[0;34m\u001b[0m\u001b[0m\n\u001b[0;32m--> 185\u001b[0;31m     with get_handle(\n\u001b[0m\u001b[1;32m    186\u001b[0m         \u001b[0mfilepath_or_buffer\u001b[0m\u001b[0;34m,\u001b[0m\u001b[0;34m\u001b[0m\u001b[0;34m\u001b[0m\u001b[0m\n\u001b[1;32m    187\u001b[0m         \u001b[0;34m\"rb\"\u001b[0m\u001b[0;34m,\u001b[0m\u001b[0;34m\u001b[0m\u001b[0;34m\u001b[0m\u001b[0m\n",
      "\u001b[0;32m/opt/conda/lib/python3.8/site-packages/pandas/io/common.py\u001b[0m in \u001b[0;36mget_handle\u001b[0;34m(path_or_buf, mode, encoding, compression, memory_map, is_text, errors, storage_options)\u001b[0m\n\u001b[1;32m    654\u001b[0m         \u001b[0;32melse\u001b[0m\u001b[0;34m:\u001b[0m\u001b[0;34m\u001b[0m\u001b[0;34m\u001b[0m\u001b[0m\n\u001b[1;32m    655\u001b[0m             \u001b[0;31m# Binary mode\u001b[0m\u001b[0;34m\u001b[0m\u001b[0;34m\u001b[0m\u001b[0;34m\u001b[0m\u001b[0m\n\u001b[0;32m--> 656\u001b[0;31m             \u001b[0mhandle\u001b[0m \u001b[0;34m=\u001b[0m \u001b[0mopen\u001b[0m\u001b[0;34m(\u001b[0m\u001b[0mhandle\u001b[0m\u001b[0;34m,\u001b[0m \u001b[0mioargs\u001b[0m\u001b[0;34m.\u001b[0m\u001b[0mmode\u001b[0m\u001b[0;34m)\u001b[0m\u001b[0;34m\u001b[0m\u001b[0;34m\u001b[0m\u001b[0m\n\u001b[0m\u001b[1;32m    657\u001b[0m         \u001b[0mhandles\u001b[0m\u001b[0;34m.\u001b[0m\u001b[0mappend\u001b[0m\u001b[0;34m(\u001b[0m\u001b[0mhandle\u001b[0m\u001b[0;34m)\u001b[0m\u001b[0;34m\u001b[0m\u001b[0;34m\u001b[0m\u001b[0m\n\u001b[1;32m    658\u001b[0m \u001b[0;34m\u001b[0m\u001b[0m\n",
      "\u001b[0;31mFileNotFoundError\u001b[0m: [Errno 2] No such file or directory: '../data/audio_vec.pkl'"
     ]
    }
   ],
   "source": [
    "dataset = CustomDataset()\n",
    "typeof(dataset.audio.embed)\n",
    "\n",
    "#dataset_train, dataset_test = torch.split(dataset, ~~~) # TODO\n",
    "\n",
    "#dataloader_train = DataLoader(dataset_train, batch_size=2, shuffle=True, num_workers=12)\n",
    "#dataloader_test = DataLoader(dataset_test, batch_size=2, shuffle=True, num_workers=12)"
   ]
  },
  {
   "cell_type": "code",
   "execution_count": 23,
   "id": "6b6b703e",
   "metadata": {
    "ExecuteTime": {
     "end_time": "2021-11-12T01:51:04.654279Z",
     "start_time": "2021-11-12T01:51:02.385907Z"
    }
   },
   "outputs": [
    {
     "ename": "NameError",
     "evalue": "Caught NameError in DataLoader worker process 0.\nOriginal Traceback (most recent call last):\n  File \"/opt/conda/lib/python3.8/site-packages/torch/utils/data/_utils/worker.py\", line 287, in _worker_loop\n    data = fetcher.fetch(index)\n  File \"/opt/conda/lib/python3.8/site-packages/torch/utils/data/_utils/fetch.py\", line 44, in fetch\n    data = [self.dataset[idx] for idx in possibly_batched_index]\n  File \"/opt/conda/lib/python3.8/site-packages/torch/utils/data/_utils/fetch.py\", line 44, in <listcomp>\n    data = [self.dataset[idx] for idx in possibly_batched_index]\n  File \"<ipython-input-21-5841512ee95a>\", line 19, in __getitem__\n    return text_embed, audio_embed, label\nNameError: name 'text_embed' is not defined\n",
     "output_type": "error",
     "traceback": [
      "\u001b[0;31m---------------------------------------------------------------------------\u001b[0m",
      "\u001b[0;31mNameError\u001b[0m                                 Traceback (most recent call last)",
      "\u001b[0;32m<ipython-input-23-09ec81f54324>\u001b[0m in \u001b[0;36m<module>\u001b[0;34m\u001b[0m\n\u001b[1;32m      1\u001b[0m \u001b[0;32mfor\u001b[0m \u001b[0mepoch\u001b[0m \u001b[0;32min\u001b[0m \u001b[0mrange\u001b[0m\u001b[0;34m(\u001b[0m\u001b[0;36m10\u001b[0m\u001b[0;34m)\u001b[0m\u001b[0;34m:\u001b[0m\u001b[0;34m\u001b[0m\u001b[0;34m\u001b[0m\u001b[0m\n\u001b[0;32m----> 2\u001b[0;31m     \u001b[0;32mfor\u001b[0m \u001b[0mbatch_idx\u001b[0m\u001b[0;34m,\u001b[0m \u001b[0msamples\u001b[0m \u001b[0;32min\u001b[0m \u001b[0menumerate\u001b[0m\u001b[0;34m(\u001b[0m\u001b[0mdataloader\u001b[0m\u001b[0;34m)\u001b[0m\u001b[0;34m:\u001b[0m\u001b[0;34m\u001b[0m\u001b[0;34m\u001b[0m\u001b[0m\n\u001b[0m\u001b[1;32m      3\u001b[0m         \u001b[0mprint\u001b[0m\u001b[0;34m(\u001b[0m\u001b[0mbatch_idx\u001b[0m\u001b[0;34m)\u001b[0m\u001b[0;34m\u001b[0m\u001b[0;34m\u001b[0m\u001b[0m\n\u001b[1;32m      4\u001b[0m         \u001b[0mprint\u001b[0m\u001b[0;34m(\u001b[0m\u001b[0msamples\u001b[0m\u001b[0;34m)\u001b[0m\u001b[0;34m\u001b[0m\u001b[0;34m\u001b[0m\u001b[0m\n",
      "\u001b[0;32m/opt/conda/lib/python3.8/site-packages/torch/utils/data/dataloader.py\u001b[0m in \u001b[0;36m__next__\u001b[0;34m(self)\u001b[0m\n\u001b[1;32m    519\u001b[0m             \u001b[0;32mif\u001b[0m \u001b[0mself\u001b[0m\u001b[0;34m.\u001b[0m\u001b[0m_sampler_iter\u001b[0m \u001b[0;32mis\u001b[0m \u001b[0;32mNone\u001b[0m\u001b[0;34m:\u001b[0m\u001b[0;34m\u001b[0m\u001b[0;34m\u001b[0m\u001b[0m\n\u001b[1;32m    520\u001b[0m                 \u001b[0mself\u001b[0m\u001b[0;34m.\u001b[0m\u001b[0m_reset\u001b[0m\u001b[0;34m(\u001b[0m\u001b[0;34m)\u001b[0m\u001b[0;34m\u001b[0m\u001b[0;34m\u001b[0m\u001b[0m\n\u001b[0;32m--> 521\u001b[0;31m             \u001b[0mdata\u001b[0m \u001b[0;34m=\u001b[0m \u001b[0mself\u001b[0m\u001b[0;34m.\u001b[0m\u001b[0m_next_data\u001b[0m\u001b[0;34m(\u001b[0m\u001b[0;34m)\u001b[0m\u001b[0;34m\u001b[0m\u001b[0;34m\u001b[0m\u001b[0m\n\u001b[0m\u001b[1;32m    522\u001b[0m             \u001b[0mself\u001b[0m\u001b[0;34m.\u001b[0m\u001b[0m_num_yielded\u001b[0m \u001b[0;34m+=\u001b[0m \u001b[0;36m1\u001b[0m\u001b[0;34m\u001b[0m\u001b[0;34m\u001b[0m\u001b[0m\n\u001b[1;32m    523\u001b[0m             \u001b[0;32mif\u001b[0m \u001b[0mself\u001b[0m\u001b[0;34m.\u001b[0m\u001b[0m_dataset_kind\u001b[0m \u001b[0;34m==\u001b[0m \u001b[0m_DatasetKind\u001b[0m\u001b[0;34m.\u001b[0m\u001b[0mIterable\u001b[0m \u001b[0;32mand\u001b[0m\u001b[0;31m \u001b[0m\u001b[0;31m\\\u001b[0m\u001b[0;34m\u001b[0m\u001b[0;34m\u001b[0m\u001b[0m\n",
      "\u001b[0;32m/opt/conda/lib/python3.8/site-packages/torch/utils/data/dataloader.py\u001b[0m in \u001b[0;36m_next_data\u001b[0;34m(self)\u001b[0m\n\u001b[1;32m   1201\u001b[0m             \u001b[0;32melse\u001b[0m\u001b[0;34m:\u001b[0m\u001b[0;34m\u001b[0m\u001b[0;34m\u001b[0m\u001b[0m\n\u001b[1;32m   1202\u001b[0m                 \u001b[0;32mdel\u001b[0m \u001b[0mself\u001b[0m\u001b[0;34m.\u001b[0m\u001b[0m_task_info\u001b[0m\u001b[0;34m[\u001b[0m\u001b[0midx\u001b[0m\u001b[0;34m]\u001b[0m\u001b[0;34m\u001b[0m\u001b[0;34m\u001b[0m\u001b[0m\n\u001b[0;32m-> 1203\u001b[0;31m                 \u001b[0;32mreturn\u001b[0m \u001b[0mself\u001b[0m\u001b[0;34m.\u001b[0m\u001b[0m_process_data\u001b[0m\u001b[0;34m(\u001b[0m\u001b[0mdata\u001b[0m\u001b[0;34m)\u001b[0m\u001b[0;34m\u001b[0m\u001b[0;34m\u001b[0m\u001b[0m\n\u001b[0m\u001b[1;32m   1204\u001b[0m \u001b[0;34m\u001b[0m\u001b[0m\n\u001b[1;32m   1205\u001b[0m     \u001b[0;32mdef\u001b[0m \u001b[0m_try_put_index\u001b[0m\u001b[0;34m(\u001b[0m\u001b[0mself\u001b[0m\u001b[0;34m)\u001b[0m\u001b[0;34m:\u001b[0m\u001b[0;34m\u001b[0m\u001b[0;34m\u001b[0m\u001b[0m\n",
      "\u001b[0;32m/opt/conda/lib/python3.8/site-packages/torch/utils/data/dataloader.py\u001b[0m in \u001b[0;36m_process_data\u001b[0;34m(self, data)\u001b[0m\n\u001b[1;32m   1227\u001b[0m         \u001b[0mself\u001b[0m\u001b[0;34m.\u001b[0m\u001b[0m_try_put_index\u001b[0m\u001b[0;34m(\u001b[0m\u001b[0;34m)\u001b[0m\u001b[0;34m\u001b[0m\u001b[0;34m\u001b[0m\u001b[0m\n\u001b[1;32m   1228\u001b[0m         \u001b[0;32mif\u001b[0m \u001b[0misinstance\u001b[0m\u001b[0;34m(\u001b[0m\u001b[0mdata\u001b[0m\u001b[0;34m,\u001b[0m \u001b[0mExceptionWrapper\u001b[0m\u001b[0;34m)\u001b[0m\u001b[0;34m:\u001b[0m\u001b[0;34m\u001b[0m\u001b[0;34m\u001b[0m\u001b[0m\n\u001b[0;32m-> 1229\u001b[0;31m             \u001b[0mdata\u001b[0m\u001b[0;34m.\u001b[0m\u001b[0mreraise\u001b[0m\u001b[0;34m(\u001b[0m\u001b[0;34m)\u001b[0m\u001b[0;34m\u001b[0m\u001b[0;34m\u001b[0m\u001b[0m\n\u001b[0m\u001b[1;32m   1230\u001b[0m         \u001b[0;32mreturn\u001b[0m \u001b[0mdata\u001b[0m\u001b[0;34m\u001b[0m\u001b[0;34m\u001b[0m\u001b[0m\n\u001b[1;32m   1231\u001b[0m \u001b[0;34m\u001b[0m\u001b[0m\n",
      "\u001b[0;32m/opt/conda/lib/python3.8/site-packages/torch/_utils.py\u001b[0m in \u001b[0;36mreraise\u001b[0;34m(self)\u001b[0m\n\u001b[1;32m    423\u001b[0m             \u001b[0;31m# have message field\u001b[0m\u001b[0;34m\u001b[0m\u001b[0;34m\u001b[0m\u001b[0;34m\u001b[0m\u001b[0m\n\u001b[1;32m    424\u001b[0m             \u001b[0;32mraise\u001b[0m \u001b[0mself\u001b[0m\u001b[0;34m.\u001b[0m\u001b[0mexc_type\u001b[0m\u001b[0;34m(\u001b[0m\u001b[0mmessage\u001b[0m\u001b[0;34m=\u001b[0m\u001b[0mmsg\u001b[0m\u001b[0;34m)\u001b[0m\u001b[0;34m\u001b[0m\u001b[0;34m\u001b[0m\u001b[0m\n\u001b[0;32m--> 425\u001b[0;31m         \u001b[0;32mraise\u001b[0m \u001b[0mself\u001b[0m\u001b[0;34m.\u001b[0m\u001b[0mexc_type\u001b[0m\u001b[0;34m(\u001b[0m\u001b[0mmsg\u001b[0m\u001b[0;34m)\u001b[0m\u001b[0;34m\u001b[0m\u001b[0;34m\u001b[0m\u001b[0m\n\u001b[0m\u001b[1;32m    426\u001b[0m \u001b[0;34m\u001b[0m\u001b[0m\n\u001b[1;32m    427\u001b[0m \u001b[0;34m\u001b[0m\u001b[0m\n",
      "\u001b[0;31mNameError\u001b[0m: Caught NameError in DataLoader worker process 0.\nOriginal Traceback (most recent call last):\n  File \"/opt/conda/lib/python3.8/site-packages/torch/utils/data/_utils/worker.py\", line 287, in _worker_loop\n    data = fetcher.fetch(index)\n  File \"/opt/conda/lib/python3.8/site-packages/torch/utils/data/_utils/fetch.py\", line 44, in fetch\n    data = [self.dataset[idx] for idx in possibly_batched_index]\n  File \"/opt/conda/lib/python3.8/site-packages/torch/utils/data/_utils/fetch.py\", line 44, in <listcomp>\n    data = [self.dataset[idx] for idx in possibly_batched_index]\n  File \"<ipython-input-21-5841512ee95a>\", line 19, in __getitem__\n    return text_embed, audio_embed, label\nNameError: name 'text_embed' is not defined\n"
     ]
    }
   ],
   "source": [
    "for epoch in range(10):\n",
    "    for batch_idx, samples in enumerate(dataloader):\n",
    "        print(batch_idx)\n",
    "        print(samples)\n",
    "        x_train, y_train = samples\n",
    "        prediction = model(x_train)\n",
    "        \n",
    "        cost = F.mse_loss(prediction, y_train)\n",
    "        \n",
    "        optimizer.zero_grad()\n",
    "        cost.backward()\n",
    "        optimizer.step()\n",
    "        \n",
    "        print('Epoch {:4d}/{} Batch {}/{} Cost: {:.6f}'.format(epoch, nb_epochs, batch_idx+1, len(dataloader), cost.item()))\n",
    "        new_var = torch.FloatTensor([[73.80,75]])\n",
    "        \n",
    "        pred_y = model(new_var)\n",
    "        print(\"훈련 후 입력이 73, 80, 75일 때의 예측값 :\", pred_y)"
   ]
  },
  {
   "cell_type": "code",
   "execution_count": null,
   "id": "d16ca039",
   "metadata": {
    "ExecuteTime": {
     "end_time": "2021-11-11T11:31:48.303271Z",
     "start_time": "2021-11-11T11:31:48.296315Z"
    }
   },
   "outputs": [],
   "source": []
  },
  {
   "cell_type": "code",
   "execution_count": null,
   "id": "0a7aa0b3",
   "metadata": {
    "ExecuteTime": {
     "end_time": "2021-11-12T01:50:20.393414Z",
     "start_time": "2021-11-12T01:50:20.374Z"
    }
   },
   "outputs": [],
   "source": [
    "import os"
   ]
  },
  {
   "cell_type": "code",
   "execution_count": null,
   "id": "1eff9588",
   "metadata": {
    "ExecuteTime": {
     "end_time": "2021-11-12T01:50:20.394480Z",
     "start_time": "2021-11-12T01:50:20.528Z"
    }
   },
   "outputs": [],
   "source": [
    "os.cpu_count()"
   ]
  },
  {
   "cell_type": "code",
   "execution_count": null,
   "id": "2127ec1f",
   "metadata": {},
   "outputs": [],
   "source": [
    "import os\n",
    "import pandas as pd\n",
    "from torchvision.io import read_image\n",
    "\n",
    "class CustomImageDataset(Dataset):\n",
    "    def __init__(self, annotations_file, img_dir, transform=None, target_transform=None):\n",
    "        self.img_labels = pd.read_csv(annotations_file)\n",
    "        self.img_dir = img_dir\n",
    "        self.transform = transform\n",
    "        self.target_transform = target_transform\n",
    "        \n",
    "    def __len__(self):\n",
    "        return len(self.img_labels)\n",
    "    \n",
    "    def __getitem__(self, idx):\n",
    "        img_path = os.path.join(self.img_dir, self.img_labels.iloc[idx, 0])\n",
    "        image = read_image(img_path)\n",
    "        label = self.img_labels.iloc[idx, 1]\n",
    "        if self.transform:\n",
    "            image = self.transform(image)\n",
    "        if self.target_transform:\n",
    "            label = self.target_transform(label)\n",
    "        return image, label"
   ]
  }
 ],
 "metadata": {
  "kernelspec": {
   "display_name": "Python 3",
   "language": "python",
   "name": "python3"
  },
  "language_info": {
   "codemirror_mode": {
    "name": "ipython",
    "version": 3
   },
   "file_extension": ".py",
   "mimetype": "text/x-python",
   "name": "python",
   "nbconvert_exporter": "python",
   "pygments_lexer": "ipython3",
   "version": "3.8.10"
  },
  "toc": {
   "base_numbering": 1,
   "nav_menu": {},
   "number_sections": false,
   "sideBar": true,
   "skip_h1_title": false,
   "title_cell": "Table of Contents",
   "title_sidebar": "Contents",
   "toc_cell": false,
   "toc_position": {},
   "toc_section_display": true,
   "toc_window_display": false
  }
 },
 "nbformat": 4,
 "nbformat_minor": 5
}
