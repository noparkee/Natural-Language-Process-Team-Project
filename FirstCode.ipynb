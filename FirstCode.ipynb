{
 "cells": [
  {
   "cell_type": "code",
   "execution_count": null,
   "id": "108e48d7",
   "metadata": {},
   "outputs": [],
   "source": []
  },
  {
   "cell_type": "code",
   "execution_count": 7,
   "id": "c0b8abf5-3762-47d7-b476-b07096e72486",
   "metadata": {
    "ExecuteTime": {
     "end_time": "2021-11-04T11:33:05.917745Z",
     "start_time": "2021-11-04T11:33:05.913247Z"
    }
   },
   "outputs": [],
   "source": [
    "import re\n",
    "import os\n",
    "\n",
    "# first test with one file\n",
    "file_path = './IEMOCAP_full_release/Session1/dialog/EmoEvaluation/Ses01F_impro01.txt'"
   ]
  },
  {
   "cell_type": "code",
   "execution_count": 6,
   "id": "4877e095",
   "metadata": {
    "ExecuteTime": {
     "end_time": "2021-11-04T11:32:59.554556Z",
     "start_time": "2021-11-04T11:32:59.549985Z"
    }
   },
   "outputs": [],
   "source": [
    "os.chdir(\"./Natural-Language-Process-Team-Project\")"
   ]
  },
  {
   "cell_type": "code",
   "execution_count": 8,
   "id": "0143b5c2-717f-40a3-8ec2-599e9f08c95d",
   "metadata": {
    "ExecuteTime": {
     "end_time": "2021-11-04T11:33:07.689577Z",
     "start_time": "2021-11-04T11:33:07.682838Z"
    }
   },
   "outputs": [
    {
     "data": {
      "text/plain": [
       "re.compile(r'\\[.+\\]\\n', re.IGNORECASE|re.UNICODE)"
      ]
     },
     "execution_count": 8,
     "metadata": {},
     "output_type": "execute_result"
    }
   ],
   "source": [
    "useful_regex = re.compile(r'\\[.+\\]\\n', re.IGNORECASE)\n",
    "useful_regex"
   ]
  },
  {
   "cell_type": "code",
   "execution_count": 9,
   "id": "ad84f0d7-2ee7-4010-9f9f-46eff060736a",
   "metadata": {
    "ExecuteTime": {
     "end_time": "2021-11-04T11:33:08.287025Z",
     "start_time": "2021-11-04T11:33:08.281515Z"
    }
   },
   "outputs": [],
   "source": [
    "with open(file_path) as f:\n",
    "    file_content = f.read()\n",
    "\n",
    "info_lines = re.findall(useful_regex, file_content)"
   ]
  },
  {
   "cell_type": "code",
   "execution_count": 5,
   "id": "a0ba6ed3",
   "metadata": {
    "ExecuteTime": {
     "end_time": "2021-11-04T11:35:15.233647Z",
     "start_time": "2021-11-04T11:35:15.225753Z"
    }
   },
   "outputs": [
    {
     "name": "stdout",
     "output_type": "stream",
     "text": [
      "['[6.2901 - 8.2357]', 'Ses01F_impro01_F000', 'neu', '[2.5000, 2.5000, 2.5000]']\n",
      "['[10.0100 - 11.3925]', 'Ses01F_impro01_F001', 'neu', '[2.5000, 2.5000, 2.5000]']\n",
      "['[14.8872 - 18.0175]', 'Ses01F_impro01_F002', 'neu', '[2.5000, 2.5000, 2.5000]']\n",
      "['[19.2900 - 20.7875]', 'Ses01F_impro01_F003', 'xxx', '[2.5000, 3.0000, 3.0000]']\n",
      "['[21.3257 - 24.7400]', 'Ses01F_impro01_F004', 'xxx', '[2.5000, 3.0000, 2.5000]']\n",
      "['[27.4600 - 31.4900]', 'Ses01F_impro01_F005', 'neu', '[2.5000, 3.5000, 2.0000]']\n",
      "['[38.9650 - 43.5900]', 'Ses01F_impro01_F006', 'fru', '[2.0000, 3.5000, 3.5000]']\n",
      "['[46.5800 - 52.1900]', 'Ses01F_impro01_F007', 'fru', '[2.5000, 3.5000, 3.5000]']\n",
      "['[56.1600 - 58.8225]', 'Ses01F_impro01_F008', 'fru', '[2.0000, 3.5000, 3.5000]']\n"
     ]
    }
   ],
   "source": [
    "for l in info_lines[1:10]:\n",
    "    print(l.strip().split('\\t'))"
   ]
  },
  {
   "cell_type": "code",
   "execution_count": null,
   "id": "663d064b",
   "metadata": {},
   "outputs": [],
   "source": []
  }
 ],
 "metadata": {
  "kernelspec": {
   "display_name": "Python 3",
   "language": "python",
   "name": "python3"
  },
  "language_info": {
   "codemirror_mode": {
    "name": "ipython",
    "version": 3
   },
   "file_extension": ".py",
   "mimetype": "text/x-python",
   "name": "python",
   "nbconvert_exporter": "python",
   "pygments_lexer": "ipython3",
   "version": "3.8.10"
  },
  "toc": {
   "base_numbering": 1,
   "nav_menu": {},
   "number_sections": false,
   "sideBar": true,
   "skip_h1_title": false,
   "title_cell": "Table of Contents",
   "title_sidebar": "Contents",
   "toc_cell": false,
   "toc_position": {},
   "toc_section_display": true,
   "toc_window_display": false
  }
 },
 "nbformat": 4,
 "nbformat_minor": 5
}
